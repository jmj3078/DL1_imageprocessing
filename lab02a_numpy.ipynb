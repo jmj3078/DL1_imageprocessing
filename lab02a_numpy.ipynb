{
  "cells": [
    {
      "attachments": {},
      "cell_type": "markdown",
      "metadata": {
        "id": "jcURIk_sSCcS"
      },
      "source": [
        "\n",
        "# Lab 2a – NumPy \n",
        "---\n",
        "\n",
        "NumPy is a library in Python for processing multi-dimensional arrays, along with a large collection of high-level mathematical functions to operate on these arrays.\n",
        "\n"
      ]
    },
    {
      "cell_type": "code",
      "execution_count": null,
      "metadata": {
        "id": "J9vVTEUuSlBI",
        "vscode": {
          "languageId": "python"
        }
      },
      "outputs": [],
      "source": [
        "import numpy as np\n",
        "\n",
        "print(\"Numpy:\", np.__version__)"
      ]
    },
    {
      "attachments": {},
      "cell_type": "markdown",
      "metadata": {
        "id": "ecFnw2LJWsz8"
      },
      "source": [
        "### Array creation\n",
        "\n",
        "Create a simple scalar as an np array\n"
      ]
    },
    {
      "cell_type": "code",
      "execution_count": null,
      "metadata": {
        "id": "3vnxUr2ub04C",
        "vscode": {
          "languageId": "python"
        }
      },
      "outputs": [],
      "source": [
        "a = np.array(5)\n",
        "print(a)\n",
        "print(a.ndim)"
      ]
    },
    {
      "attachments": {},
      "cell_type": "markdown",
      "metadata": {
        "id": "ew_pXsrDb9bg"
      },
      "source": [
        "Create a simple 1-D array\n"
      ]
    },
    {
      "cell_type": "code",
      "execution_count": null,
      "metadata": {
        "id": "8E0ENWYO4nWR",
        "vscode": {
          "languageId": "python"
        }
      },
      "outputs": [],
      "source": [
        "a = np.array([0,1,2])\n",
        "print(a.ndim)\n",
        "print(a.size)"
      ]
    },
    {
      "attachments": {},
      "cell_type": "markdown",
      "metadata": {
        "id": "YVACLQIOXiec"
      },
      "source": [
        "Create a 1-D array with zeros in it\n",
        "\n",
        "Check array properties"
      ]
    },
    {
      "cell_type": "code",
      "execution_count": null,
      "metadata": {
        "id": "DiG7e7rCXlYt",
        "vscode": {
          "languageId": "python"
        }
      },
      "outputs": [],
      "source": [
        "a = np.zeros(3)\n",
        "print(a)\n",
        "\n",
        "# print array type\n",
        "print(type(a))\n",
        "# print array's first element\n",
        "print(a[0])\n",
        "# print type of array's first element\n",
        "print(type(a[0]))\n",
        "# print number of dimensions of array\n",
        "print(a.ndim)\n",
        "# print size of array\n",
        "print(a.size)\n",
        "# print array data type\n",
        "print(a.dtype)"
      ]
    },
    {
      "attachments": {},
      "cell_type": "markdown",
      "metadata": {
        "id": "asq-tBXz5IPO"
      },
      "source": [
        "Specifying array data type"
      ]
    },
    {
      "cell_type": "code",
      "execution_count": null,
      "metadata": {
        "id": "PSXfp4j45Ik2",
        "vscode": {
          "languageId": "python"
        }
      },
      "outputs": [],
      "source": [
        "a = np.array([1,2,3], dtype='int32')\n",
        "print(a)\n",
        "print(a.dtype)"
      ]
    },
    {
      "attachments": {},
      "cell_type": "markdown",
      "metadata": {
        "id": "SsQZjix_VgPZ"
      },
      "source": [
        "Create an array with 1's in it"
      ]
    },
    {
      "cell_type": "code",
      "execution_count": null,
      "metadata": {
        "id": "PaTrpDwUVrbN",
        "vscode": {
          "languageId": "python"
        }
      },
      "outputs": [],
      "source": [
        "z = np.ones(10)\n",
        "z"
      ]
    },
    {
      "attachments": {},
      "cell_type": "markdown",
      "metadata": {
        "id": "AcNFM_otaWgY"
      },
      "source": [
        "Specying 2-D array data type\n"
      ]
    },
    {
      "cell_type": "code",
      "execution_count": null,
      "metadata": {
        "id": "kWdgoZpiaTBX",
        "vscode": {
          "languageId": "python"
        }
      },
      "outputs": [],
      "source": [
        "z = np.ones((2,4), dtype=int) # Default dtype is numpy.float64\n",
        "print(z)\n",
        "print(z.dtype)"
      ]
    },
    {
      "attachments": {},
      "cell_type": "markdown",
      "metadata": {
        "id": "-m-cnwei6tZ8"
      },
      "source": [
        "Fill array with a number"
      ]
    },
    {
      "cell_type": "code",
      "execution_count": null,
      "metadata": {
        "id": "mDhrnjw06rii",
        "vscode": {
          "languageId": "python"
        }
      },
      "outputs": [],
      "source": [
        "np.full((3,4), 13)"
      ]
    },
    {
      "attachments": {},
      "cell_type": "markdown",
      "metadata": {
        "id": "gXItqN5Q1BpB"
      },
      "source": [
        "### Identity matrix"
      ]
    },
    {
      "cell_type": "code",
      "execution_count": null,
      "metadata": {
        "id": "v_JA88wV1D4e",
        "vscode": {
          "languageId": "python"
        }
      },
      "outputs": [],
      "source": [
        "np.identity(3)"
      ]
    },
    {
      "cell_type": "code",
      "execution_count": null,
      "metadata": {
        "id": "QSWC6a0InKSQ",
        "vscode": {
          "languageId": "python"
        }
      },
      "outputs": [],
      "source": [
        "np.eye(2)"
      ]
    },
    {
      "attachments": {},
      "cell_type": "markdown",
      "metadata": {
        "id": "j_AZQmf6Vb8F"
      },
      "source": [
        "## Array Shape\n",
        "\n",
        "The shape of an array is the number of elements in each dimension."
      ]
    },
    {
      "cell_type": "code",
      "execution_count": null,
      "metadata": {
        "id": "rq_kLhOr_QqD",
        "vscode": {
          "languageId": "python"
        }
      },
      "outputs": [],
      "source": [
        "a = np.array([0,1,2])\n",
        "print(a.shape)"
      ]
    },
    {
      "attachments": {},
      "cell_type": "markdown",
      "metadata": {
        "id": "K7xdTpnEcZT8"
      },
      "source": [
        "Array rank is the number of dimensions"
      ]
    },
    {
      "cell_type": "code",
      "execution_count": null,
      "metadata": {
        "id": "33nt1d-0cf18",
        "vscode": {
          "languageId": "python"
        }
      },
      "outputs": [],
      "source": [
        "print(a.ndim)"
      ]
    },
    {
      "attachments": {},
      "cell_type": "markdown",
      "metadata": {
        "id": "7HULnFqdcAgh"
      },
      "source": [
        "### Reshape\n",
        "By reshaping we can add or remove dimensions or change number of elements in each dimension."
      ]
    },
    {
      "cell_type": "code",
      "execution_count": null,
      "metadata": {
        "id": "0D3JwF-ZcGqb",
        "vscode": {
          "languageId": "python"
        }
      },
      "outputs": [],
      "source": [
        "a.shape = (3,1)\n",
        "print(a)"
      ]
    },
    {
      "attachments": {},
      "cell_type": "markdown",
      "metadata": {
        "id": "uDXJFqVfwYWT"
      },
      "source": [
        "Reshape from 1-D to 2-D"
      ]
    },
    {
      "cell_type": "code",
      "execution_count": null,
      "metadata": {
        "id": "VLXuw6eowcYt",
        "vscode": {
          "languageId": "python"
        }
      },
      "outputs": [],
      "source": [
        "b = np.array([1, 2, 3, 4, 5, 6, 7, 8, 9, 10, 11, 12])\n",
        "print(b.ndim)\n",
        "print(b.shape)\n",
        "c = b.reshape(4, 3)\n",
        "print(c)\n",
        "print(c.ndim)\n",
        "print(c.shape)"
      ]
    },
    {
      "attachments": {},
      "cell_type": "markdown",
      "metadata": {
        "id": "w2ELbWecw4Oh"
      },
      "source": [
        "Reshape to 3-D\n",
        "- Arrays can be reshaped to any dimensions as long as the number of elements match\n"
      ]
    },
    {
      "cell_type": "code",
      "execution_count": null,
      "metadata": {
        "id": "tLdV3i8nw2kH",
        "vscode": {
          "languageId": "python"
        }
      },
      "outputs": [],
      "source": [
        "d = c.reshape(2,3,2)\n",
        "print(d)\n",
        "d.shape"
      ]
    },
    {
      "attachments": {},
      "cell_type": "markdown",
      "metadata": {
        "id": "bs9n1emSxb-v"
      },
      "source": [
        "Unknown dimension\n",
        "\n",
        "- You are allowed to have ONE \"unknown\" dimension *only*.\n",
        "- Specify -1 for this, NumPy will calculate this number automatically."
      ]
    },
    {
      "cell_type": "code",
      "execution_count": null,
      "metadata": {
        "id": "je1kWJ9txxud",
        "vscode": {
          "languageId": "python"
        }
      },
      "outputs": [],
      "source": [
        "e = c.reshape(1,2,-1)\n",
        "print(e)\n",
        "print(e.shape)"
      ]
    },
    {
      "attachments": {},
      "cell_type": "markdown",
      "metadata": {
        "id": "XwZ-poKdHlHH"
      },
      "source": [
        "Reshape back to 1-D"
      ]
    },
    {
      "cell_type": "code",
      "execution_count": null,
      "metadata": {
        "id": "pbxdmNB-Gz0c",
        "vscode": {
          "languageId": "python"
        }
      },
      "outputs": [],
      "source": [
        "e = e.reshape(12)\n",
        "print(e)\n",
        "print(e.shape)"
      ]
    },
    {
      "attachments": {},
      "cell_type": "markdown",
      "metadata": {
        "id": "PsawhjpcfJTw"
      },
      "source": [
        "## Evenly spaced numbers over a specified number of elements or interval\n",
        "- ``linspace()``\n",
        "- ``arange()``\n"
      ]
    },
    {
      "cell_type": "code",
      "execution_count": null,
      "metadata": {
        "id": "u_DoTZXLakCN",
        "vscode": {
          "languageId": "python"
        }
      },
      "outputs": [],
      "source": [
        "z = np.linspace(2, 10, 5) # from 2 to 10 with 5 elements"
      ]
    },
    {
      "cell_type": "code",
      "execution_count": null,
      "metadata": {
        "colab": {
          "base_uri": "https://localhost:8080/"
        },
        "id": "gMVbPVCGfSjc",
        "outputId": "9b784b67-1ffd-481d-db12-5344708b456c",
        "vscode": {
          "languageId": "python"
        }
      },
      "outputs": [
        {
          "data": {
            "text/plain": [
              "array([0, 5])"
            ]
          },
          "execution_count": 37,
          "metadata": {},
          "output_type": "execute_result"
        }
      ],
      "source": [
        "z = np.arange(0, 10, step=5) # from 0 to 9 with step size 5\n",
        "z"
      ]
    },
    {
      "cell_type": "code",
      "execution_count": null,
      "metadata": {
        "id": "VeXvv-V5nfaS",
        "vscode": {
          "languageId": "python"
        }
      },
      "outputs": [],
      "source": [
        "z = np.arange(10)\n",
        "z"
      ]
    },
    {
      "attachments": {},
      "cell_type": "markdown",
      "metadata": {
        "id": "G5eaJ4L0fL-z"
      },
      "source": [
        "\n",
        "# NumPy Arrays vs Lists\n",
        "\n",
        "*   Faster to read because it uses less bytes of memory via fixed type (e.g. Int32)\n",
        "*   No type checking when iterating through objects\n",
        "*   Utilises contiguous memory\n",
        "*   Element wise operations possible\n"
      ]
    },
    {
      "cell_type": "code",
      "execution_count": null,
      "metadata": {
        "id": "1rWmKx3pfOMk",
        "vscode": {
          "languageId": "python"
        }
      },
      "outputs": [],
      "source": [
        "# Create array from list\n",
        "a = np.array([1,3,7])\n",
        "print(a)\n",
        "type(a)"
      ]
    },
    {
      "attachments": {},
      "cell_type": "markdown",
      "metadata": {
        "id": "nu0N35W5qboD"
      },
      "source": [
        "Convert array to list"
      ]
    },
    {
      "cell_type": "code",
      "execution_count": null,
      "metadata": {
        "id": "Lscgyp-sqdlL",
        "vscode": {
          "languageId": "python"
        }
      },
      "outputs": [],
      "source": [
        "alist = np.ones(5).tolist()\n",
        "print(alist)\n",
        "type(alist)"
      ]
    },
    {
      "attachments": {},
      "cell_type": "markdown",
      "metadata": {
        "id": "lr-Kr8LwfmvH"
      },
      "source": [
        "## 2-D arrays"
      ]
    },
    {
      "cell_type": "code",
      "execution_count": null,
      "metadata": {
        "id": "fcz1zXhefo71",
        "vscode": {
          "languageId": "python"
        }
      },
      "outputs": [],
      "source": [
        "alist = [[1,2,3,4], [8,7,6,5]]\n",
        "z = np.array(alist)\n",
        "print(z)\n",
        "print(z.shape)"
      ]
    },
    {
      "cell_type": "code",
      "execution_count": null,
      "metadata": {
        "id": "8ngPOoekgTYs",
        "vscode": {
          "languageId": "python"
        }
      },
      "outputs": [],
      "source": [
        "blist = [[1,2,3,4], [8,7,6,5]]\n",
        "z = np.array([blist])\n",
        "print(z)\n",
        "print(z.shape)"
      ]
    },
    {
      "attachments": {},
      "cell_type": "markdown",
      "metadata": {
        "id": "Em5Nw9arhCwF"
      },
      "source": [
        "## Random Array\n",
        "\n",
        "Create a random integer array specifying range and size"
      ]
    },
    {
      "cell_type": "code",
      "execution_count": null,
      "metadata": {
        "id": "zQdGQDg-Fzsw",
        "vscode": {
          "languageId": "python"
        }
      },
      "outputs": [],
      "source": [
        "# random integers start, end exclusive, shape\n",
        "np.random.randint(4,9,size=(3,4))"
      ]
    },
    {
      "attachments": {},
      "cell_type": "markdown",
      "metadata": {
        "id": "qaHcD1N8E_mW"
      },
      "source": [
        "Create an array with 10 random numbers between 0 and 1"
      ]
    },
    {
      "cell_type": "code",
      "execution_count": null,
      "metadata": {
        "id": "M_4UhUmPujho",
        "vscode": {
          "languageId": "python"
        }
      },
      "outputs": [],
      "source": [
        "np.random.random(10)"
      ]
    },
    {
      "attachments": {},
      "cell_type": "markdown",
      "metadata": {
        "id": "daIq4T4JuzpO"
      },
      "source": [
        "Use seed() for reproducibility"
      ]
    },
    {
      "cell_type": "code",
      "execution_count": null,
      "metadata": {
        "id": "Zxy_M4OZhEWU",
        "vscode": {
          "languageId": "python"
        }
      },
      "outputs": [],
      "source": [
        "# Seed allows the random values generated will be the same every time the code is run\n",
        "np.random.seed(0) # change 0 to any other integer value (e.g. 10) and see the effects\n",
        "z1 = np.random.randint(10, size=6) # generate an array with 6 integers between 0 and 9\n",
        "z1"
      ]
    },
    {
      "attachments": {},
      "cell_type": "markdown",
      "metadata": {
        "id": "uRWWdwq8wjjo"
      },
      "source": [
        "## Basic operations"
      ]
    },
    {
      "cell_type": "code",
      "execution_count": null,
      "metadata": {
        "id": "HSd3L_JsFUzh",
        "vscode": {
          "languageId": "python"
        }
      },
      "outputs": [],
      "source": [
        "z = np.array([1,2,3,8,9])\n",
        "print(z<3)\n",
        "z[z>3]"
      ]
    },
    {
      "cell_type": "code",
      "execution_count": null,
      "metadata": {
        "id": "whvr3FlZGVpP",
        "vscode": {
          "languageId": "python"
        }
      },
      "outputs": [],
      "source": [
        "a = np.array([1,2,3,4,5])\n",
        "b = np.array([6,7,8,9,10])\n",
        "print(a+b)\n",
        "print(a-b)\n",
        "print(a*b)\n",
        "print(a/b)\n",
        "print(a * 10)\n"
      ]
    },
    {
      "attachments": {},
      "cell_type": "markdown",
      "metadata": {
        "id": "e2RzzZldGkVO"
      },
      "source": [
        "## Dot product"
      ]
    },
    {
      "cell_type": "code",
      "execution_count": null,
      "metadata": {
        "id": "Nu7p59sdGmiu",
        "vscode": {
          "languageId": "python"
        }
      },
      "outputs": [],
      "source": [
        "a @ b"
      ]
    },
    {
      "attachments": {},
      "cell_type": "markdown",
      "metadata": {
        "id": "R3A5qQmVG01b"
      },
      "source": [
        "## Transpose\n",
        "\n",
        "Swap the rows and columns of an array"
      ]
    },
    {
      "cell_type": "code",
      "execution_count": null,
      "metadata": {
        "id": "1___Z3ykG2se",
        "vscode": {
          "languageId": "python"
        }
      },
      "outputs": [],
      "source": [
        "c = np.array([[1,2,3], [4,5,6]])\n",
        "c.T"
      ]
    },
    {
      "attachments": {},
      "cell_type": "markdown",
      "metadata": {
        "id": "zJXAJSAcpGic"
      },
      "source": [
        "## Indexing & Slicing\n",
        "\n",
        "- Remember indexes start at 0\n",
        "- Accessing specific elements"
      ]
    },
    {
      "cell_type": "code",
      "execution_count": null,
      "metadata": {
        "id": "8h0ErrfMD1F5",
        "vscode": {
          "languageId": "python"
        }
      },
      "outputs": [],
      "source": [
        "c = np.array([[1,2,3,4,5,6,7], [8,9,10,11,12,13,14]])\n",
        "\n",
        "# Index starts at 0\n",
        "print(c[0,0])\n",
        "print(c[1,2]) # row 1 (2nd row) , column 2 (3rd column)"
      ]
    },
    {
      "attachments": {},
      "cell_type": "markdown",
      "metadata": {
        "id": "8AoJeja0pIsI"
      },
      "source": [
        "## Slicing\n",
        "- ``a[start:stop]``  # items ``start`` through ``stop-1``\n",
        "- ``a[start:]``      # items ``start`` through the rest of the array\n",
        "- ``a[:stop]``       # items from the beginning through ``stop-1``\n",
        "- ``a[:]``           # a copy of the whole array\n"
      ]
    },
    {
      "cell_type": "code",
      "execution_count": null,
      "metadata": {
        "id": "7AQMsfUwpK__",
        "vscode": {
          "languageId": "python"
        }
      },
      "outputs": [],
      "source": [
        "# Get specific row/column\n",
        "print(c[0, : ]) # get row 0\n",
        "print(c[ : ,2]) # get column 2\n",
        "print(c.shape)"
      ]
    },
    {
      "attachments": {},
      "cell_type": "markdown",
      "metadata": {
        "id": "-oYuY6sLqX_1"
      },
      "source": [
        "### Indexing from the back\n",
        "- ``a[-1]``    # last item in the array\n",
        "- ``a[-2:]``   # last two items in the array\n",
        "- ``a[:-2]``   # everything except the last two items\n",
        "- Backward indexing starts from -1"
      ]
    },
    {
      "cell_type": "code",
      "execution_count": null,
      "metadata": {
        "id": "WRl5THxmoNgv",
        "vscode": {
          "languageId": "python"
        }
      },
      "outputs": [],
      "source": [
        "b = np.array([[9.0, 8.0, 7.0, 6.0], [5.0, 4.0, 3.0, 2.0]])\n",
        "print(b[1,-2]) # starting indexing backwards (second element from the back)"
      ]
    },
    {
      "attachments": {},
      "cell_type": "markdown",
      "metadata": {
        "id": "lEK7NC9rqLlp"
      },
      "source": [
        "### Including step\n",
        "- ``a[start:stop:step]`` # ``start`` through not past ``stop``, by ``step``"
      ]
    },
    {
      "cell_type": "code",
      "execution_count": null,
      "metadata": {
        "id": "jk9Aa_vRqNFM",
        "vscode": {
          "languageId": "python"
        }
      },
      "outputs": [],
      "source": [
        "print(c[0,1:6:2])\n",
        "print(c[1,1:-1:2])"
      ]
    },
    {
      "attachments": {},
      "cell_type": "markdown",
      "metadata": {
        "id": "cvoJ_RAErFn6"
      },
      "source": [
        "### Changing elements\n",
        "\n",
        "> Indented block\n",
        "\n"
      ]
    },
    {
      "cell_type": "code",
      "execution_count": null,
      "metadata": {
        "id": "AjPxXrqjrH08",
        "vscode": {
          "languageId": "python"
        }
      },
      "outputs": [],
      "source": [
        "c[1,5] = 20\n",
        "print(c)\n",
        "\n",
        "c[:, 2] = [17,19]\n",
        "print(c)"
      ]
    },
    {
      "attachments": {},
      "cell_type": "markdown",
      "metadata": {
        "id": "FiOC3cPWsdh7"
      },
      "source": [
        "### Indexing 3-D arrays"
      ]
    },
    {
      "cell_type": "code",
      "execution_count": null,
      "metadata": {
        "id": "ClCG-Da8shbV",
        "vscode": {
          "languageId": "python"
        }
      },
      "outputs": [],
      "source": [
        "d = np.array([[[1,2],[3,4]], [[5,6],[7,8]]])\n",
        "print(d)\n",
        "print(d.shape)"
      ]
    },
    {
      "cell_type": "code",
      "execution_count": null,
      "metadata": {
        "id": "9DBbb_LrtZoD",
        "vscode": {
          "languageId": "python"
        }
      },
      "outputs": [],
      "source": [
        "# Get specific element\n",
        "print(d[0,1,1])\n",
        "\n",
        "# All x, some y , all z\n",
        "print(d[:,1,:])"
      ]
    },
    {
      "cell_type": "code",
      "execution_count": null,
      "metadata": {
        "id": "c34iZ31luY3B",
        "vscode": {
          "languageId": "python"
        }
      },
      "outputs": [],
      "source": [
        "# Replace\n",
        "d[:,1,:] = [[9,9], [8,8]]\n",
        "d"
      ]
    },
    {
      "attachments": {},
      "cell_type": "markdown",
      "metadata": {
        "id": "tiEWpX69GvFX"
      },
      "source": [
        "## Repeat array"
      ]
    },
    {
      "cell_type": "code",
      "execution_count": null,
      "metadata": {
        "id": "yOVFXLVLGwof",
        "vscode": {
          "languageId": "python"
        }
      },
      "outputs": [],
      "source": [
        "e = np.array([1,2,3])\n",
        "np.repeat(e, 2)"
      ]
    },
    {
      "cell_type": "code",
      "execution_count": null,
      "metadata": {
        "id": "uiZn250aHBaa",
        "vscode": {
          "languageId": "python"
        }
      },
      "outputs": [],
      "source": [
        "# repeat on an axis\n",
        "e = np.array([[1,2,3]])\n",
        "np.repeat(e, 2, axis=0)"
      ]
    },
    {
      "cell_type": "code",
      "execution_count": null,
      "metadata": {
        "id": "TTtJSIqkbdF4",
        "vscode": {
          "languageId": "python"
        }
      },
      "outputs": [],
      "source": [
        "f = np.ones((5,5), dtype='int32')\n",
        "f[1:-1, 1:-1] = 0\n",
        "f[2,2] = 9\n",
        "f"
      ]
    },
    {
      "attachments": {},
      "cell_type": "markdown",
      "metadata": {
        "id": "F2FhXKBzdBvv"
      },
      "source": [
        "## Making copies\n"
      ]
    },
    {
      "cell_type": "code",
      "execution_count": null,
      "metadata": {
        "id": "beXK4n6edUBV",
        "vscode": {
          "languageId": "python"
        }
      },
      "outputs": [],
      "source": [
        "g = np.array([1,2,3])\n",
        "h = g # point h to g so they share content\n",
        "h[1] = 100\n",
        "print(g)"
      ]
    },
    {
      "cell_type": "code",
      "execution_count": null,
      "metadata": {
        "id": "SowYr20KdWHX",
        "vscode": {
          "languageId": "python"
        }
      },
      "outputs": [],
      "source": [
        "g = np.array([1,2,3])\n",
        "h = g.copy() # explicitly make a copy\n",
        "h[1] = 100\n",
        "print(g)"
      ]
    },
    {
      "attachments": {},
      "cell_type": "markdown",
      "metadata": {
        "id": "pfsr2QJehBs_"
      },
      "source": [
        "# Linear Algebra"
      ]
    },
    {
      "cell_type": "code",
      "execution_count": null,
      "metadata": {
        "id": "Y_bIRmo7hPDy",
        "vscode": {
          "languageId": "python"
        }
      },
      "outputs": [],
      "source": [
        "a = np.ones((2,3))\n",
        "print(a)\n",
        "\n",
        "b = np.full((3,2),2)\n",
        "print(b)\n",
        "\n",
        "np.matmul(a,b)"
      ]
    },
    {
      "attachments": {},
      "cell_type": "markdown",
      "metadata": {
        "id": "xMdgPZ-Eiotc"
      },
      "source": [
        "# Statistics"
      ]
    },
    {
      "cell_type": "code",
      "execution_count": null,
      "metadata": {
        "id": "DiJpwzH8itCU",
        "vscode": {
          "languageId": "python"
        }
      },
      "outputs": [],
      "source": [
        "a = np.array([[1,2,3], [4,5,6]])\n",
        "print(a.sum())   \n",
        "print(a.mean()) \n",
        "print(a.max())   \n",
        "print(a.min())   \n",
        "print(a.argmax())\n"
      ]
    },
    {
      "attachments": {},
      "cell_type": "markdown",
      "metadata": {
        "id": "B9I-1Ix2Fot1"
      },
      "source": [
        "Specifying axis\n",
        "- Column: ``axis=0``\n",
        "- Row: ``axis=1``"
      ]
    },
    {
      "cell_type": "code",
      "execution_count": null,
      "metadata": {
        "id": "WTjj0oQzFqpe",
        "vscode": {
          "languageId": "python"
        }
      },
      "outputs": [],
      "source": [
        "print(np.min(a, axis=1)) # smallest values in rows\n",
        "print(np.max(a, axis=0)) # largest values in columns"
      ]
    },
    {
      "attachments": {},
      "cell_type": "markdown",
      "metadata": {
        "id": "q8vq3nCsGZXX"
      },
      "source": [
        "Others – Log and exponential"
      ]
    },
    {
      "cell_type": "code",
      "execution_count": null,
      "metadata": {
        "id": "LfrKsLCOGanj",
        "vscode": {
          "languageId": "python"
        }
      },
      "outputs": [],
      "source": [
        "print(np.log(a)) \n",
        "print(np.exp(a)) "
      ]
    },
    {
      "attachments": {},
      "cell_type": "markdown",
      "metadata": {
        "id": "5UbCvj9SpNe4"
      },
      "source": [
        "## Vertical stacking"
      ]
    },
    {
      "cell_type": "code",
      "execution_count": null,
      "metadata": {
        "id": "DBcR69YspPUM",
        "vscode": {
          "languageId": "python"
        }
      },
      "outputs": [],
      "source": [
        "v1 = np.array([1,2,3,4])\n",
        "v2 = np.array([5,6,7,8])\n",
        "\n",
        "np.vstack([v1,v2,v1,v2])"
      ]
    },
    {
      "cell_type": "code",
      "execution_count": null,
      "metadata": {
        "colab": {
          "base_uri": "https://localhost:8080/"
        },
        "id": "JaUPFFnTq1oT",
        "outputId": "a7af1b0f-5c3e-401d-f903-9bab8cb305ce",
        "vscode": {
          "languageId": "python"
        }
      },
      "outputs": [
        {
          "data": {
            "text/plain": [
              "array([5, 6, 7, 8, 1, 2, 3, 4, 1, 2, 3, 4])"
            ]
          },
          "execution_count": 99,
          "metadata": {
            "tags": []
          },
          "output_type": "execute_result"
        }
      ],
      "source": [
        "np.hstack([v2,v1,v1])"
      ]
    },
    {
      "cell_type": "code",
      "execution_count": null,
      "metadata": {
        "id": "4tB3b0rJrDbG",
        "vscode": {
          "languageId": "python"
        }
      },
      "outputs": [],
      "source": [
        "h1 = np.zeros((2,4))\n",
        "h2 = np.ones((2,2))\n",
        "\n",
        "np.hstack((h1,h2))"
      ]
    },
    {
      "attachments": {},
      "cell_type": "markdown",
      "metadata": {
        "id": "mTIwXgT4twBY"
      },
      "source": [
        "## Plotting with Matplotlib\n",
        "- A simple example using post office international parcel charges for two countries"
      ]
    },
    {
      "cell_type": "code",
      "execution_count": null,
      "metadata": {
        "id": "fwS6AZmutvTQ",
        "vscode": {
          "languageId": "python"
        }
      },
      "outputs": [],
      "source": [
        "import matplotlib.pyplot as plt\n",
        "import numpy as np\n",
        "\n",
        "# Parcel weights start at 0.5kg to 20.5kgs in half kilo intervals\n",
        "x = np.arange(0.5, 20.5, 0.5)\n",
        "\n",
        "# Country 1 parcel charges\n",
        "c1 = np.array([16.0, 19.0, 21.5, 24.5, 25.0, 27.3, 29.6, 31.9, 34.2, 36.5, 38.8, 41.1, 43.4, 45.7, 48.0, 50.3, 52.6, 54.9, 57.2, 59.5, \n",
        "     61.8, 64.1, 66.4, 68.7, 71.0, 73.3, 75.6, 77.9, 80.2, 82.5, 84.8, 87.1, 89.4, 91.7, 94.0, 96.3, 98.6, 100.9, 103.2, 105.5])\n",
        "\n",
        "# Country 2 parcel charges\n",
        "c2 = np.array([16.0, 19.0, 21.5, 24.5, 25.5, 27.0, 28.5, 30.0, 31.5, 33, 34.5, 36, 37.5, 39, 40.5, 42, 43.5, 45, 46.5, 48, \n",
        "     49.5, 51, 52.5, 54, 55.5, 57, 58.5, 60, 61.5, 63, 64.5, 66, 67.5, 69, 70.5, 72, 73.5, 75, 76.5, 78])\n",
        "\n",
        "plt.plot(x,c1)\n",
        "plt.plot(x,c2)\n",
        "plt.xlabel(\"Weight (kg)\")\n",
        "plt.ylabel(\"Price (Thousand Won)\")\n",
        "plt.legend(['Country 1', 'Country 2'])\n",
        "plt.show()"
      ]
    },
    {
      "cell_type": "code",
      "execution_count": null,
      "metadata": {
        "id": "obhtBBp-2TZq",
        "vscode": {
          "languageId": "python"
        }
      },
      "outputs": [],
      "source": [
        "# Get estimated value from plot using np.interp() for postal price for a weight that's not in the array\n",
        "parcel_weight = 11.3 # change this to any other value and run again\n",
        "\n",
        "est1 = np.interp(parcel_weight, x, c1)\n",
        "\n",
        "est2 = np.interp(parcel_weight, x, c2)\n",
        "\n",
        "print(f'Estimated parcel prices for weight {parcel_weight:.2f} is {est1} for Country 1 and {est2:.2f} for Country 2')"
      ]
    }
  ],
  "metadata": {
    "colab": {
      "provenance": []
    },
    "kernelspec": {
      "display_name": "Python 3",
      "name": "python3"
    }
  },
  "nbformat": 4,
  "nbformat_minor": 0
}
