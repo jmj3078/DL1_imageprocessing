{
  "cells": [
    {
      "attachments": {},
      "cell_type": "markdown",
      "metadata": {
        "id": "hKpob9_wDf-c"
      },
      "source": [
        "# Lab 6 Multi-class Classification on FashionMNIST\n",
        "You will \n",
        "- start doing image processing\n",
        "- run NN models on GPUs\n",
        "- use the `DataLoader()` class to iterate over dataset\n",
        "- visualise images in the dataset\n",
        "- train the model in batches\n",
        "- print training and test accuracies\n",
        "- perform some transformations on the dataset\n",
        "- tweak the hyper parameters to help with model performance\n",
        "\n",
        "**IMPORTANT: Change your runtime type to GPU before continuining.**\n",
        "\n"
      ]
    },
    {
      "cell_type": "code",
      "execution_count": 1,
      "metadata": {
        "id": "eFNeaZyUtpXZ"
      },
      "outputs": [],
      "source": [
        "import torch\n",
        "import torchvision\n",
        "import torchvision.transforms as transforms\n",
        "\n",
        "import matplotlib.pyplot as plt\n",
        "\n",
        "import torch.optim as optim\n",
        "import torch.nn as nn"
      ]
    },
    {
      "attachments": {},
      "cell_type": "markdown",
      "metadata": {
        "id": "UMmpnqJgocup"
      },
      "source": [
        "### 0. Set up the device and hyper parameters"
      ]
    },
    {
      "cell_type": "code",
      "execution_count": 2,
      "metadata": {
        "colab": {
          "base_uri": "https://localhost:8080/"
        },
        "id": "HNnGekwgofqO",
        "outputId": "258d377e-4385-4bf8-cd2c-d18551698a19"
      },
      "outputs": [
        {
          "name": "stdout",
          "output_type": "stream",
          "text": [
            "cpu\n"
          ]
        }
      ],
      "source": [
        "# Device configuration\n",
        "device = torch.device('cuda' if torch.cuda.is_available() else 'cpu')\n",
        "print(device) # should print cuda, change your runtime type to GPU if not\n",
        "\n",
        "# Hyper parameters\n",
        "input_size = 784 # 28x28\n",
        "hidden_size = 32 # can be removed if you prefer to specify this in the model's class itself\n",
        "num_classes = 10\n",
        "num_epochs = 5\n",
        "batch_size = 32\n",
        "learning_rate = 0.001"
      ]
    },
    {
      "attachments": {},
      "cell_type": "markdown",
      "metadata": {
        "id": "VXVv7RQit4cL"
      },
      "source": [
        "### 1. Load the dataset"
      ]
    },
    {
      "cell_type": "code",
      "execution_count": 3,
      "metadata": {
        "id": "6CP32BKYt6II"
      },
      "outputs": [
        {
          "name": "stdout",
          "output_type": "stream",
          "text": [
            "Downloading http://fashion-mnist.s3-website.eu-central-1.amazonaws.com/train-images-idx3-ubyte.gz\n",
            "Downloading http://fashion-mnist.s3-website.eu-central-1.amazonaws.com/train-images-idx3-ubyte.gz to ./FashionMNIST/raw/train-images-idx3-ubyte.gz\n"
          ]
        },
        {
          "name": "stderr",
          "output_type": "stream",
          "text": [
            "100%|██████████| 26421880/26421880 [00:27<00:00, 947253.93it/s] \n"
          ]
        },
        {
          "name": "stdout",
          "output_type": "stream",
          "text": [
            "Extracting ./FashionMNIST/raw/train-images-idx3-ubyte.gz to ./FashionMNIST/raw\n",
            "\n",
            "Downloading http://fashion-mnist.s3-website.eu-central-1.amazonaws.com/train-labels-idx1-ubyte.gz\n",
            "Downloading http://fashion-mnist.s3-website.eu-central-1.amazonaws.com/train-labels-idx1-ubyte.gz to ./FashionMNIST/raw/train-labels-idx1-ubyte.gz\n"
          ]
        },
        {
          "name": "stderr",
          "output_type": "stream",
          "text": [
            "100%|██████████| 29515/29515 [00:00<00:00, 126851.37it/s]\n"
          ]
        },
        {
          "name": "stdout",
          "output_type": "stream",
          "text": [
            "Extracting ./FashionMNIST/raw/train-labels-idx1-ubyte.gz to ./FashionMNIST/raw\n",
            "\n",
            "Downloading http://fashion-mnist.s3-website.eu-central-1.amazonaws.com/t10k-images-idx3-ubyte.gz\n",
            "Downloading http://fashion-mnist.s3-website.eu-central-1.amazonaws.com/t10k-images-idx3-ubyte.gz to ./FashionMNIST/raw/t10k-images-idx3-ubyte.gz\n"
          ]
        },
        {
          "name": "stderr",
          "output_type": "stream",
          "text": [
            "100%|██████████| 4422102/4422102 [00:02<00:00, 2025239.12it/s]\n"
          ]
        },
        {
          "name": "stdout",
          "output_type": "stream",
          "text": [
            "Extracting ./FashionMNIST/raw/t10k-images-idx3-ubyte.gz to ./FashionMNIST/raw\n",
            "\n",
            "Downloading http://fashion-mnist.s3-website.eu-central-1.amazonaws.com/t10k-labels-idx1-ubyte.gz\n",
            "Downloading http://fashion-mnist.s3-website.eu-central-1.amazonaws.com/t10k-labels-idx1-ubyte.gz to ./FashionMNIST/raw/t10k-labels-idx1-ubyte.gz\n"
          ]
        },
        {
          "name": "stderr",
          "output_type": "stream",
          "text": [
            "100%|██████████| 5148/5148 [00:00<00:00, 10662852.84it/s]"
          ]
        },
        {
          "name": "stdout",
          "output_type": "stream",
          "text": [
            "Extracting ./FashionMNIST/raw/t10k-labels-idx1-ubyte.gz to ./FashionMNIST/raw\n",
            "\n"
          ]
        },
        {
          "name": "stderr",
          "output_type": "stream",
          "text": [
            "\n"
          ]
        }
      ],
      "source": [
        "# import data\n",
        "train_set = torchvision.datasets.FashionMNIST(root=\"./\", download=True, \n",
        "                                              train=True,\n",
        "                                              transform=transforms.Compose([transforms.ToTensor()]))\n",
        "\n",
        "test_set = torchvision.datasets.FashionMNIST(root=\"./\", download=False, \n",
        "                                              train=False,\n",
        "                                              transform=transforms.Compose([transforms.ToTensor()]))\n",
        "\n",
        "# TODO: after downloading, locate the data within your hosted runtime machine in the folder on the left\n",
        "# Q0. Type 'OK' below if you see a folder called 'FashionMNIST'\n",
        "# OK"
      ]
    },
    {
      "attachments": {},
      "cell_type": "markdown",
      "metadata": {
        "id": "T_mpiaP92Gv3"
      },
      "source": [
        "### View basic info on training data"
      ]
    },
    {
      "cell_type": "code",
      "execution_count": 4,
      "metadata": {
        "colab": {
          "base_uri": "https://localhost:8080/"
        },
        "id": "Y8nfqRaAwxZw",
        "outputId": "007e7d9d-9db8-4fe1-da27-6bb517e64f25"
      },
      "outputs": [
        {
          "name": "stdout",
          "output_type": "stream",
          "text": [
            "Train set size: 60000\n",
            "Labels: tensor([9, 0, 0,  ..., 3, 0, 5])\n",
            "Count of each class: tensor([6000, 6000, 6000, 6000, 6000, 6000, 6000, 6000, 6000, 6000])\n"
          ]
        }
      ],
      "source": [
        "print(f'Train set size: {len(train_set)}') # number of samples in training set\n",
        "print(f'Labels: {train_set.targets}') # displays targets labels for the training data\n",
        "print(f'Count of each class: {train_set.targets.bincount()}') \n",
        "\n",
        "# Q1. Considering the size of the training set and the batch size, how many iterations will there be in each epoch?\n",
        "# 60000/32 = 1875, 1875 iterations\n",
        "# Q2. Is the dataset balanced? Why?\n",
        "# Yes, The number of each class is all the same."
      ]
    },
    {
      "attachments": {},
      "cell_type": "markdown",
      "metadata": {
        "id": "-Uv676yivunH"
      },
      "source": [
        "### 2. Use DataLoader to load the datasets\n",
        "If you get an error when you (re-)run the next code cell, then `restart the runtime` and run all code cells again."
      ]
    },
    {
      "cell_type": "code",
      "execution_count": 5,
      "metadata": {
        "colab": {
          "base_uri": "https://localhost:8080/"
        },
        "id": "9MYCt5iXtiHc",
        "outputId": "3262d2c0-b33b-40a6-d6e0-7e529d8cc143"
      },
      "outputs": [
        {
          "name": "stdout",
          "output_type": "stream",
          "text": [
            "Length: 2\n",
            "Type: <class 'tuple'>\n",
            "torch.Size([1, 28, 28])\n",
            "9\n"
          ]
        }
      ],
      "source": [
        "train_loader = torch.utils.data.DataLoader(train_set, batch_size=batch_size)\n",
        "test_loader = torch.utils.data.DataLoader(test_set, batch_size=batch_size)\n",
        "\n",
        "# Access the first data sample in the train_set using next(iter())\n",
        "sample = next(iter(train_set))\n",
        "print(f'Length: {len(sample)}')\n",
        "print(f'Type: {type(sample)}')\n",
        "\n",
        "# This means the data contains image-label pairs\n",
        "# Unpack them\n",
        "image, label = sample\n",
        "# Same as these two lines:\n",
        "# image = sample[0]\n",
        "# label = sample[1]\n",
        "\n",
        "# Print the shape and label of the first data sample\n",
        "print(image.shape)\n",
        "print(label)\n",
        "\n",
        "# Q3. What does the shape of the image tell you about the number of channels and dimensions of the images?\n",
        "# Indicates a black-and-white image in size 28 x 28.\n",
        "# Q4. What does the label value represent?\n",
        "# 0 : T-shirt/Top, 1 : Trouser, 2 : Pullover, 3 : Dress, 4 : Coat, 5 : Sandal. 6 : Shirt, 7 : Sneaker. 8 : Bag, 9 : Ankle boot"
      ]
    },
    {
      "attachments": {},
      "cell_type": "markdown",
      "metadata": {
        "id": "SkUSs38F4fTv"
      },
      "source": [
        "### 3. Visualisation\n",
        "View the first image"
      ]
    },
    {
      "cell_type": "code",
      "execution_count": 6,
      "metadata": {
        "colab": {
          "base_uri": "https://localhost:8080/",
          "height": 448
        },
        "id": "PIY_3XLLq4HW",
        "outputId": "7cba67eb-3090-4182-d619-85321c13758d"
      },
      "outputs": [
        {
          "data": {
            "text/plain": [
              "<matplotlib.image.AxesImage at 0x7f7ab9bbc460>"
            ]
          },
          "execution_count": 6,
          "metadata": {},
          "output_type": "execute_result"
        },
        {
          "data": {
            "image/png": "[encoded data removed]",
            "text/plain": [
              "<Figure size 640x480 with 1 Axes>"
            ]
          },
          "metadata": {},
          "output_type": "display_data"
        }
      ],
      "source": [
        "plt.imshow(image.squeeze(), cmap='gray')"
      ]
    },
    {
      "cell_type": "code",
      "execution_count": 7,
      "metadata": {
        "colab": {
          "base_uri": "https://localhost:8080/"
        },
        "id": "ewlJW3F7uA2s",
        "outputId": "afff4b6b-2246-4f8f-fa10-15d59c638bb1"
      },
      "outputs": [
        {
          "name": "stdout",
          "output_type": "stream",
          "text": [
            "2\n",
            "<class 'list'>\n",
            "Image shape: torch.Size([32, 1, 28, 28])\n",
            "Label shape: torch.Size([32])\n"
          ]
        }
      ],
      "source": [
        "# Get the first BATCH from train_loader\n",
        "batch = next(iter(train_loader))\n",
        "print(len(batch))\n",
        "print(type(batch))\n",
        "\n",
        "# Unpack the images and labels\n",
        "images, labels = batch\n",
        "\n",
        "print(f'Image shape: {images.shape}')\n",
        "print(f'Label shape: {labels.shape}')\n",
        "\n",
        "# Q5. What does each number in the shape of the images represent?\n",
        "# (32) represents the batch size, which is the number of images in the batch.\n",
        "# (1) represents the number of channels in each image. as the image has only one channel, it is a grayscale image.\n",
        "# (28) represents the height of the image in pixels.\n",
        "# (28) represents the width of the image in pixels.\n",
        "\n",
        "# Q6. What about the shape of the labels?\n",
        "# It indicates it is 1-D tensor of (32,).\n",
        "# there are 32 images in the batch, each with a corresponding label indicating the class of the image."
      ]
    },
    {
      "attachments": {},
      "cell_type": "markdown",
      "metadata": {
        "id": "hQrK9-gRuHJm"
      },
      "source": [
        "### View some sample images\n",
        "- The table for the label index and description is available [HERE](https://github.com/zalandoresearch/fashion-mnist#labels)"
      ]
    },
    {
      "cell_type": "code",
      "execution_count": 8,
      "metadata": {
        "colab": {
          "base_uri": "https://localhost:8080/",
          "height": 468
        },
        "id": "Zwz0kGvfuL6d",
        "outputId": "84c3b80b-363b-41d0-8a2c-2357ac7212e0"
      },
      "outputs": [
        {
          "name": "stdout",
          "output_type": "stream",
          "text": [
            "class labels: tensor([9, 0, 0, 3, 0, 2, 7, 2, 5, 5, 0, 9, 5, 5, 7, 9, 1, 0, 6, 4, 3, 1, 4, 8,\n",
            "        4, 3, 0, 2, 4, 4, 5, 3])\n"
          ]
        },
        {
          "data": {
            "text/plain": [
              "<matplotlib.image.AxesImage at 0x7f7aa9249670>"
            ]
          },
          "execution_count": 8,
          "metadata": {},
          "output_type": "execute_result"
        },
        {
          "data": {
            "image/png": "[encoded data removed]",
            "text/plain": [
              "<Figure size 1500x1500 with 1 Axes>"
            ]
          },
          "metadata": {},
          "output_type": "display_data"
        }
      ],
      "source": [
        "# Create a grid \n",
        "plt.figure(figsize=(15,15))\n",
        "grid = torchvision.utils.make_grid(tensor=images[1:8], nrow=4) # nrow = number of images displayed in each row\n",
        "\n",
        "print(f\"class labels: {labels}\")\n",
        "\n",
        "# Use grid.permute() to transpose the grid so that the axes meet the specifications required by \n",
        "# plt.imshow(), which are [height, width, channels]. PyTorch dimensions are [channels, height, width].\n",
        "plt.imshow(grid.permute(1,2,0), cmap='gray')\n",
        "\n",
        "\n",
        "# Note that the images are grayscale (black and white) and have 28x28 pixels\n",
        "# Grayscale images only have one channel\n",
        "# TODO: Check that the image labels for each image corresponds to the correct label provided above\n",
        "\n",
        "# Q7. How many images are displayed in total here and why? \n",
        "# 32, Because there are 32 images is the batch.\n",
        "# Q8. How do you increase or decrease the TOTAL number of images displayed?\n",
        "# slicing the image tensor or change the batch size."
      ]
    },
    {
      "attachments": {},
      "cell_type": "markdown",
      "metadata": {
        "id": "GEqum0gywlAr"
      },
      "source": [
        "### 4. Define the Neural Network, Loss and Optimiser"
      ]
    },
    {
      "cell_type": "code",
      "execution_count": 10,
      "metadata": {
        "id": "EomhDykuKgcf"
      },
      "outputs": [],
      "source": [
        "# 4. NN model\n",
        "class FashionNN(nn.Module):\n",
        "  def __init__(self, input_size, hidden_size, num_classes):\n",
        "    super().__init__()\n",
        "    self.layer1 = nn.Linear(input_size, hidden_size)\n",
        "    self.relu = nn.ReLU()\n",
        "    self.layer2 = nn.Linear(hidden_size, num_classes)\n",
        "    # NOTE: softmax not added here because of CrossEntropyLoss later\n",
        "\n",
        "  def forward(self, x):\n",
        "    out = self.layer1(x)\n",
        "    out = self.relu(out)\n",
        "    out = self.layer2(out)\n",
        "    return out\n",
        "\n",
        "# 4.1 Create NN model instance\n",
        "model = FashionNN(input_size, hidden_size, num_classes).to(device)\n",
        "\n",
        "# 4.2 Loss and Optimiser\n",
        "criterion = nn.CrossEntropyLoss() # will apply softmax\n",
        "opt = optim.Adam(model.parameters(), lr=learning_rate)"
      ]
    },
    {
      "attachments": {},
      "cell_type": "markdown",
      "metadata": {
        "id": "-ad4xBEypUEQ"
      },
      "source": [
        "### 5. Training Loop"
      ]
    },
    {
      "cell_type": "code",
      "execution_count": 11,
      "metadata": {
        "colab": {
          "base_uri": "https://localhost:8080/"
        },
        "id": "qG5SZmR3OLUX",
        "outputId": "a7811ad8-4250-4fb2-950b-e8e57fc361ef"
      },
      "outputs": [
        {
          "name": "stdout",
          "output_type": "stream",
          "text": [
            "\n",
            "\n",
            "Epoch 1/5, Iteration 200/1875, Loss=0.7343 \n",
            "Epoch 1/5, Iteration 400/1875, Loss=0.5099 \n",
            "Epoch 1/5, Iteration 600/1875, Loss=0.4085 \n",
            "Epoch 1/5, Iteration 800/1875, Loss=0.6893 \n",
            "Epoch 1/5, Iteration 1000/1875, Loss=0.3249 \n",
            "Epoch 1/5, Iteration 1200/1875, Loss=0.3465 \n",
            "Epoch 1/5, Iteration 1400/1875, Loss=0.7793 \n",
            "Epoch 1/5, Iteration 1600/1875, Loss=0.4453 \n",
            "Epoch 1/5, Iteration 1800/1875, Loss=0.4121 \n",
            "\n",
            "\n",
            "Epoch 2/5, Iteration 200/1875, Loss=0.4636 \n",
            "Epoch 2/5, Iteration 400/1875, Loss=0.3586 \n",
            "Epoch 2/5, Iteration 600/1875, Loss=0.3727 \n",
            "Epoch 2/5, Iteration 800/1875, Loss=0.6249 \n",
            "Epoch 2/5, Iteration 1000/1875, Loss=0.2643 \n",
            "Epoch 2/5, Iteration 1200/1875, Loss=0.2674 \n",
            "Epoch 2/5, Iteration 1400/1875, Loss=0.7385 \n",
            "Epoch 2/5, Iteration 1600/1875, Loss=0.3675 \n",
            "Epoch 2/5, Iteration 1800/1875, Loss=0.3839 \n",
            "\n",
            "\n",
            "Epoch 3/5, Iteration 200/1875, Loss=0.3971 \n",
            "Epoch 3/5, Iteration 400/1875, Loss=0.3069 \n",
            "Epoch 3/5, Iteration 600/1875, Loss=0.3647 \n",
            "Epoch 3/5, Iteration 800/1875, Loss=0.6142 \n",
            "Epoch 3/5, Iteration 1000/1875, Loss=0.2281 \n",
            "Epoch 3/5, Iteration 1200/1875, Loss=0.2340 \n",
            "Epoch 3/5, Iteration 1400/1875, Loss=0.7217 \n",
            "Epoch 3/5, Iteration 1600/1875, Loss=0.3533 \n",
            "Epoch 3/5, Iteration 1800/1875, Loss=0.3502 \n",
            "\n",
            "\n",
            "Epoch 4/5, Iteration 200/1875, Loss=0.3565 \n",
            "Epoch 4/5, Iteration 400/1875, Loss=0.2861 \n",
            "Epoch 4/5, Iteration 600/1875, Loss=0.3318 \n",
            "Epoch 4/5, Iteration 800/1875, Loss=0.5724 \n",
            "Epoch 4/5, Iteration 1000/1875, Loss=0.2068 \n",
            "Epoch 4/5, Iteration 1200/1875, Loss=0.2321 \n",
            "Epoch 4/5, Iteration 1400/1875, Loss=0.7059 \n",
            "Epoch 4/5, Iteration 1600/1875, Loss=0.3124 \n",
            "Epoch 4/5, Iteration 1800/1875, Loss=0.3440 \n",
            "\n",
            "\n",
            "Epoch 5/5, Iteration 200/1875, Loss=0.3231 \n",
            "Epoch 5/5, Iteration 400/1875, Loss=0.2965 \n",
            "Epoch 5/5, Iteration 600/1875, Loss=0.3308 \n",
            "Epoch 5/5, Iteration 800/1875, Loss=0.5299 \n",
            "Epoch 5/5, Iteration 1000/1875, Loss=0.1914 \n",
            "Epoch 5/5, Iteration 1200/1875, Loss=0.1853 \n",
            "Epoch 5/5, Iteration 1400/1875, Loss=0.6729 \n",
            "Epoch 5/5, Iteration 1600/1875, Loss=0.2964 \n",
            "Epoch 5/5, Iteration 1800/1875, Loss=0.3269 \n",
            "\n",
            "Train Accuracy = 85.1537\n"
          ]
        }
      ],
      "source": [
        "# 5. Training loop\n",
        "n_total_steps = len(train_set)\n",
        "n_iterations = -(-n_total_steps // batch_size) # ceiling division\n",
        "\n",
        "n_correct = 0\n",
        "n_samples = 0\n",
        "\n",
        "for epoch in range(num_epochs):\n",
        "  print('\\n')\n",
        "  # 5.1 loop over all the batches, i is index, (images, labels) is data\n",
        "  for i, (images, labels) in enumerate(train_loader):\n",
        "    # 5.2 Reshape images first [batch_size, 1, 28, 28] --> [batch_size, 784]\n",
        "    # 5.3 Push images to GPU\n",
        "    images = images.reshape(-1, 28*28).to(device)\n",
        "    labels = labels.to(device)\n",
        "\n",
        "    # 5.4 Forward pass\n",
        "    outputs = model(images)\n",
        "    loss = criterion(outputs, labels)\n",
        "\n",
        "    # 5.5 Backward pass\n",
        "    opt.zero_grad() # 5.6 Empty the values in the gradient attribute, or model.zero_grad()\n",
        "    loss.backward() # 5.7 Backprop\n",
        "    opt.step() # 5.8 Update params\n",
        "\n",
        "    # 5.9 Print loss\n",
        "    if (i+1) % 200 == 0:\n",
        "      print(f'Epoch {epoch+1}/{num_epochs}, Iteration {i+1}/{n_iterations}, Loss={loss.item():.4f} ')\n",
        "\n",
        "    # 5.10 Get Accuracy\n",
        "    # torch.max() returns actual probability value (ignored) and index or class label (selected)\n",
        "    _, y_preds = torch.max(outputs, 1)\n",
        "    n_samples += labels.shape[0]\n",
        "    n_correct += (y_preds == labels).sum().item()\n",
        "\n",
        "# 5.11 Print accuracy\n",
        "acc = 100.0 * n_correct / n_samples\n",
        "print(f'\\nTrain Accuracy = {acc:.4f}')"
      ]
    },
    {
      "attachments": {},
      "cell_type": "markdown",
      "metadata": {
        "id": "2h_mGIz8phs_"
      },
      "source": [
        "### 6. Evaluation"
      ]
    },
    {
      "cell_type": "code",
      "execution_count": 12,
      "metadata": {
        "colab": {
          "base_uri": "https://localhost:8080/"
        },
        "id": "1OycQhxjSD78",
        "outputId": "ac6fd233-2270-4e26-ea9b-73e1564c6d66"
      },
      "outputs": [
        {
          "name": "stdout",
          "output_type": "stream",
          "text": [
            "Test Accuracy = 85.8400\n"
          ]
        }
      ],
      "source": [
        "# 6. Deactivate the autograd engine to reduce memory usage and speed up computations (backprop disabled).\n",
        "with torch.no_grad():\n",
        "  n_correct = 0\n",
        "  n_samples = 0\n",
        "\n",
        "  # 6.1 Loop through test set\n",
        "  for images, labels in test_loader:\n",
        "    # 6.2 \n",
        "    images = images.reshape(-1, 28*28).to(device)\n",
        "    labels = labels.to(device)\n",
        "    # 6.3 Run on trained model\n",
        "    outputs = model(images) \n",
        "\n",
        "    # 6.4. Get predictions\n",
        "    # torch.max() returns actual probability value (ignored) and index or class label (selected)\n",
        "    _, y_preds = torch.max(outputs, 1)\n",
        "    n_samples += labels.shape[0]\n",
        "    n_correct += (y_preds == labels).sum().item()\n",
        "\n",
        "  # 6.5 Print accuracy\n",
        "  acc = 100.0 * n_correct / n_samples\n",
        "  print(f'Test Accuracy = {acc:.4f}')"
      ]
    },
    {
      "cell_type": "code",
      "execution_count": null,
      "metadata": {
        "colab": {
          "base_uri": "https://localhost:8080/"
        },
        "id": "H3XPHhJOyk1I",
        "outputId": "3634fb1b-a83d-4a0b-d04b-1a4df7e0d64a"
      },
      "outputs": [
        {
          "name": "stdout",
          "output_type": "stream",
          "text": [
            "tensor(0.4090, device='cuda:0', grad_fn=<NllLossBackward0>)\n"
          ]
        }
      ],
      "source": [
        "# Q9. What is the final loss of this model on the training set?\n",
        "print(loss) # 0.4090\n",
        "# Q10. What is the accuracy of this model on the training set?\n",
        "# 82.3817\n",
        "# Q11. What is the accuracy of the trained model on the test set?\n",
        "# 84.0200"
      ]
    },
    {
      "attachments": {},
      "cell_type": "markdown",
      "metadata": {
        "id": "7uA-MQhkvLYm"
      },
      "source": [
        "### TASK: Increase `num_epochs` & redo\n",
        "- Keep track of the loss and test set accuracy\n",
        "- Set `num_epochs=5` in code cell 0 (hyper parameters)\n",
        "- Rebuild and retrain the model by **running code cells 0, 4, and 5 ONLY**\n",
        "- Evaluate the model on the test data by running **code cell 6**\n",
        "- Answer the questions below"
      ]
    },
    {
      "cell_type": "code",
      "execution_count": null,
      "metadata": {
        "colab": {
          "base_uri": "https://localhost:8080/"
        },
        "id": "0K3EjH8avaxl",
        "outputId": "c1798437-9437-4749-ee3d-2e6f94790300"
      },
      "outputs": [
        {
          "name": "stdout",
          "output_type": "stream",
          "text": [
            "tensor(0.2947, device='cuda:0', grad_fn=<NllLossBackward0>)\n"
          ]
        }
      ],
      "source": [
        "# Q12. What is the final loss now and is it less than the previous loss?\n",
        "print(loss) # 0.2947, less than previous loss 0.4090\n",
        "# Q13. Are the training and test set accuracies higher now?\n",
        "# training : 85.1563, test : 85.6700\n",
        "# Q14. After changing the num_epochs, why should code cell 4 (NN, Loss, Optimiser) be run before code cell 5 (training)?\n",
        "# Because the number of epochs determines the number of times the weights of the neural network are updated based on training data.\n",
        "# If we change the number of epochs, we need to retrain the neural network, loss function, and optimizer to ensure that the model is properly optimized for the new number of epochs. "
      ]
    },
    {
      "attachments": {},
      "cell_type": "markdown",
      "metadata": {
        "id": "-eXwmWVGwCPC"
      },
      "source": [
        "## 6. Let's add some improvements\n",
        "\n",
        "We are going to add ONE improvement at a time\n",
        "- First the training data is **normalised and shuffled** (code provided). Use the same number of epochs as the the previous case to make a fair comparison.\n",
        "- Build and train the model and get the loss, train and test set accuracies.\n",
        "- Then change ONE hyper parameter, e.g. `num_epochs`, `hidden_size`, `batch_size`, `learning_rate` OR add layers.\n",
        "- Run code cells 7-11 to train and test the model and take note of its loss, train and test accuracies.\n",
        "\n",
        "**IMPORTANT!** If you have trouble running any of the code cells below, restart the runtime, via `Runtime-->Restart runtime` before continuing (or `Ctrl/Cmd + M + .`)\n"
      ]
    },
    {
      "cell_type": "code",
      "execution_count": 15,
      "metadata": {
        "id": "4QfzTvO8Nx8g"
      },
      "outputs": [],
      "source": [
        "# You DO NOT have to run this cell code unless you restarted the runtime.\n",
        "\n",
        "import torch\n",
        "import torchvision\n",
        "import torchvision.transforms as transforms\n",
        "\n",
        "import matplotlib.pyplot as plt\n",
        "\n",
        "import torch.optim as optim\n",
        "import torch.nn as nn"
      ]
    },
    {
      "attachments": {},
      "cell_type": "markdown",
      "metadata": {
        "id": "30aufWiM3Naq"
      },
      "source": [
        "### 7. Normalise and Shuffle the Traning Data"
      ]
    },
    {
      "cell_type": "code",
      "execution_count": 16,
      "metadata": {
        "colab": {
          "base_uri": "https://localhost:8080/"
        },
        "id": "S_qut4Y4Q4Uu",
        "outputId": "81fbb358-6d01-4a18-fe8d-71f861e80f95"
      },
      "outputs": [],
      "source": [
        "# Add Normalisation to transform data\n",
        "transform = transforms.Compose([transforms.ToTensor(),\n",
        "                                transforms.Normalize((0.0,), (0.5,),)])\n",
        "\n",
        "train_set = torchvision.datasets.FashionMNIST(root=\"./\", download=True, \n",
        "                                              train=True,\n",
        "                                              transform=transform)\n",
        "test_set = torchvision.datasets.FashionMNIST(root=\"./\", download=True, \n",
        "                                              train=False,\n",
        "                                              transform=transform)\n"
      ]
    },
    {
      "attachments": {},
      "cell_type": "markdown",
      "metadata": {
        "id": "aWVj9JNOQGaU"
      },
      "source": [
        "### 8a. Hyper-parameters"
      ]
    },
    {
      "cell_type": "code",
      "execution_count": 17,
      "metadata": {
        "colab": {
          "base_uri": "https://localhost:8080/"
        },
        "id": "70oa_pmlvSu2",
        "outputId": "9b78d145-3503-41be-eebb-1a4d918d2dca"
      },
      "outputs": [
        {
          "name": "stdout",
          "output_type": "stream",
          "text": [
            "cpu\n"
          ]
        }
      ],
      "source": [
        "device = torch.device('cuda' if torch.cuda.is_available() else 'cpu')\n",
        "print(device)\n",
        "\n",
        "# Hyper parameters\n",
        "input_size = 784 # 28x28\n",
        "hidden_size = 128\n",
        "num_classes = 10 \n",
        "num_epochs = 10\n",
        "batch_size = 516\n",
        "learning_rate = 0.001"
      ]
    },
    {
      "attachments": {},
      "cell_type": "markdown",
      "metadata": {
        "id": "oRTslkm-wZbE"
      },
      "source": [
        "### 8b. Shuffle the training data\n",
        "\n",
        "This reshuffles the data at every epoch\n"
      ]
    },
    {
      "cell_type": "code",
      "execution_count": 18,
      "metadata": {
        "id": "DYfGUo0rRfG9"
      },
      "outputs": [],
      "source": [
        "train_loader = torch.utils.data.DataLoader(train_set, batch_size=batch_size, shuffle=True) # Shuffle 적용\n",
        "test_loader = torch.utils.data.DataLoader(test_set, batch_size=batch_size, shuffle=False) # Shuffle 미적용"
      ]
    },
    {
      "attachments": {},
      "cell_type": "markdown",
      "metadata": {
        "id": "d8ciaWDeVnm2"
      },
      "source": [
        "### 9. NN Model, Loss, Optimiser"
      ]
    },
    {
      "cell_type": "code",
      "execution_count": 19,
      "metadata": {
        "id": "eglzc-j5AD8S"
      },
      "outputs": [],
      "source": [
        "# 9. NN model\n",
        "class FashionNN2(nn.Module):\n",
        "  def __init__(self, input_size, hidden_size, num_classes):\n",
        "    super().__init__()\n",
        "    self.layer1 = nn.Linear(input_size, hidden_size)\n",
        "    self.relu = nn.ReLU()\n",
        "    self.layer2 = nn.Linear(hidden_size, num_classes)\n",
        "    # NOTE: softmax not added here because of CrossEntropyLoss later\n",
        "\n",
        "  def forward(self, x):\n",
        "    out = self.layer1(x)\n",
        "    out = self.relu(out)\n",
        "    out = self.layer2(out)\n",
        "    return out\n",
        "\n",
        "# 9.1 Create NN model instance\n",
        "model = FashionNN2(input_size, hidden_size, num_classes).to(device)\n",
        "\n",
        "# 9.2 Loss and Optimiser\n",
        "criterion = nn.CrossEntropyLoss() # will apply softmax\n",
        "opt = optim.Adam(model.parameters(), lr=learning_rate)"
      ]
    },
    {
      "attachments": {},
      "cell_type": "markdown",
      "metadata": {
        "id": "xJe5KODuWpf0"
      },
      "source": [
        "### 10. Training Loop"
      ]
    },
    {
      "cell_type": "code",
      "execution_count": 20,
      "metadata": {
        "colab": {
          "base_uri": "https://localhost:8080/"
        },
        "id": "cXvpA1zyAXTl",
        "outputId": "f9251de5-801f-4b4f-a8eb-d25babda5e14"
      },
      "outputs": [
        {
          "name": "stdout",
          "output_type": "stream",
          "text": [
            "\n",
            "\n",
            "\n",
            "\n",
            "\n",
            "\n",
            "\n",
            "\n",
            "\n",
            "\n",
            "\n",
            "\n",
            "\n",
            "\n",
            "\n",
            "\n",
            "\n",
            "\n",
            "\n",
            "\n",
            "Finished training \n",
            "Train Accuracy = 86.2928\n"
          ]
        }
      ],
      "source": [
        "# 10. Training loop\n",
        "n_total_steps = len(train_set)\n",
        "n_iterations = -(-n_total_steps // batch_size) # ceiling division\n",
        "\n",
        "n_correct = 0\n",
        "n_samples = 0\n",
        "\n",
        "for epoch in range(num_epochs):\n",
        "  print('\\n')\n",
        "  # 10.1 loop over all the batches, i is index, (images, labels) is data\n",
        "  for i, (images, labels) in enumerate(train_loader):\n",
        "    # 10.2 Reshape images first [batch_size, 1, 28, 28] --> [batch_size, 784]\n",
        "    # 10.3 Push images to GPU\n",
        "    images = images.reshape(-1, 28*28).to(device)\n",
        "    labels = labels.to(device)\n",
        "\n",
        "    # 10.4 Forward pass\n",
        "    outputs = model(images)\n",
        "    loss = criterion(outputs, labels)\n",
        "\n",
        "    # 10.5 Backward pass\n",
        "    opt.zero_grad() \n",
        "    loss.backward() \n",
        "    opt.step() \n",
        "\n",
        "    # 10.6 Print loss\n",
        "    if (i+1) % 200 == 0:\n",
        "      print(f'Epoch {epoch+1}/{num_epochs}, Iteration {i+1}/{n_iterations}, Loss={loss.item():.4f} ')\n",
        "\n",
        "    # 10.7 Get model Accuracy\n",
        "    # torch.max() returns actual probability value (ignored) and index of class label (selected)\n",
        "    _, y_preds = torch.max(outputs, 1)\n",
        "    n_samples += labels.shape[0]\n",
        "    n_correct += (y_preds == labels).sum().item()\n",
        "\n",
        "# 10.8 Print accuracy\n",
        "acc = 100.0 * n_correct / n_samples\n",
        "print(f'Finished training \\nTrain Accuracy = {acc:.4f}')\n"
      ]
    },
    {
      "attachments": {},
      "cell_type": "markdown",
      "metadata": {
        "id": "vh3kJa0gWvSn"
      },
      "source": [
        "### 11. Evaluation on Test Set"
      ]
    },
    {
      "cell_type": "code",
      "execution_count": 14,
      "metadata": {
        "colab": {
          "base_uri": "https://localhost:8080/"
        },
        "id": "bEHiGUlGxgx2",
        "outputId": "78110e39-dc23-4640-a44c-1f514e66d4f4"
      },
      "outputs": [
        {
          "name": "stdout",
          "output_type": "stream",
          "text": [
            "Test Accuracy = 85.8400\n"
          ]
        }
      ],
      "source": [
        "# 11. Deactivate the autograd engine to reduce memory usage and speed up computations (backprop disabled).\n",
        "with torch.no_grad():\n",
        "  n_correct = 0\n",
        "  n_samples = 0\n",
        "\n",
        "  # 11.1 Loop through test set\n",
        "  for images, labels in test_loader:\n",
        "    images = images.reshape(-1, 28*28).to(device)\n",
        "    labels = labels.to(device)\n",
        "    outputs = model(images) \n",
        "\n",
        "    # 11.2 Get predictions\n",
        "    # torch.max() returns actual probability value (ignored) and index or class label (selected)\n",
        "    _, y_preds = torch.max(outputs, 1)\n",
        "    n_samples += labels.shape[0]\n",
        "    n_correct += (y_preds == labels).sum().item()\n",
        "\n",
        "  # 11.3 Print accuracy\n",
        "  acc = 100.0 * n_correct / n_samples\n",
        "  print(f'Test Accuracy = {acc:.4f}')\n"
      ]
    },
    {
      "cell_type": "code",
      "execution_count": null,
      "metadata": {
        "colab": {
          "base_uri": "https://localhost:8080/"
        },
        "id": "9JEY07vqTLR_",
        "outputId": "57222054-6d1b-4d19-aaa3-a5a7af01bf1d"
      },
      "outputs": [
        {
          "name": "stdout",
          "output_type": "stream",
          "text": [
            "tensor(0.5350, device='cuda:0', grad_fn=<NllLossBackward0>)\n"
          ]
        }
      ],
      "source": [
        "# Q15. What is the final loss of this model on the training set?\n",
        "# 0.5350\n",
        "# Q16. What is the accuracy of this model on the training set?\n",
        "# 83.1300\n",
        "# Q17. What is the accuracy of the trained model on the test set?\n",
        "# 84.5600\n",
        "# Q18. Did shuffling and normalisation help to build a better model?\n",
        "# The test accuracy of revious model without shuffling and normalisation was 84.0200,\n",
        "# So It can be said that the performance of the model has been slightly improved.\n",
        "# Q19. How many training samples were seen by the model during each epoch of training?\n",
        "# 1875"
      ]
    },
    {
      "attachments": {},
      "cell_type": "markdown",
      "metadata": {
        "id": "5Fffl5eTtYWj"
      },
      "source": [
        "### Further Improvement\n",
        "\n",
        "- Try changing other hyper parameters, ONE at a time while keeping everything else the same\n",
        "- **KEEP shuffling and normalisation**, i.e. do not change code cells 7 and 8b.\n",
        "- Example changes:\n",
        "  - Increase `num_epochs` (max 20)\n",
        "  - Change number neurons in hidden layers (keep it within 128 max per layer)\n",
        "  - Add ONE extra hidden layer at a time (start with 32 units). You only need to run code cells 9-11.\n",
        "  - Change `batch_size` (to powers of 2s), try 64.\n",
        "  - Change loss to `NLLLoss()`, you need to add softmax activation in the output layer\n",
        "  - Change the learning rate\n",
        "\n",
        "- Rerun **code cells 8a-11**(except when adding layers, where you would rerun just cells 9-11).\n",
        "- If the change improves the model, KEEP this improvement and change something else and redo to see if it can be further improved.\n",
        "- Keep a record of the final loss, train and test set accuracies for each test run.\n",
        "- Make at LEAST THREE changes that help improve the model's performance on the test set.\n"
      ]
    },
    {
      "cell_type": "code",
      "execution_count": 9,
      "metadata": {
        "colab": {
          "base_uri": "https://localhost:8080/"
        },
        "id": "uX-qh72JdzOJ",
        "outputId": "b176b549-226c-453b-9e41-136f7b509598"
      },
      "outputs": [
        {
          "name": "stdout",
          "output_type": "stream",
          "text": [
            "tensor(0.4140, device='cuda:0', grad_fn=<NllLossBackward0>)\n"
          ]
        }
      ],
      "source": [
        "# Test 1 \n",
        "# Change : hidden_size = 64, num_epochs = 10, batch_size = 128\n",
        "# Loss: 0.4140\n",
        "# Train acc: 87.0342\n",
        "# Test acc: 86.8200"
      ]
    },
    {
      "cell_type": "code",
      "execution_count": 14,
      "metadata": {
        "colab": {
          "base_uri": "https://localhost:8080/"
        },
        "id": "X8YH49fHeH6x",
        "outputId": "72f31432-b43f-45ed-8926-52bee1674fe8"
      },
      "outputs": [
        {
          "data": {
            "text/plain": [
              "tensor(0.2338, device='cuda:0', grad_fn=<NllLossBackward0>)"
            ]
          },
          "execution_count": 14,
          "metadata": {},
          "output_type": "execute_result"
        }
      ],
      "source": [
        "# Test 2 \n",
        "# Change : hidden_size = 128, num_epochs = 20, batch_size = 256\n",
        "# Loss: 0.2338\n",
        "# Train acc: 87.0390\n",
        "# Test acc: 87.5200"
      ]
    },
    {
      "cell_type": "code",
      "execution_count": 9,
      "metadata": {
        "colab": {
          "base_uri": "https://localhost:8080/"
        },
        "id": "EYSPW1aeeIwi",
        "outputId": "67fd576b-4ac5-4041-8b1b-2271fc8f096d"
      },
      "outputs": [
        {
          "data": {
            "text/plain": [
              "tensor(0.2958, device='cuda:0', grad_fn=<NllLossBackward0>)"
            ]
          },
          "execution_count": 9,
          "metadata": {},
          "output_type": "execute_result"
        }
      ],
      "source": [
        "# Test 3\n",
        "# Change: hidden_size = 128, num_epochs = 10, batch_size = 516\n",
        "# Loss: 0.2958\n",
        "# Train acc: 85.9315\n",
        "# Test acc: 86.9000"
      ]
    },
    {
      "cell_type": "code",
      "execution_count": null,
      "metadata": {
        "id": "M0cnlcn3kXL2"
      },
      "outputs": [],
      "source": [
        "# Q20. State any insights you gained from this exercise.\n",
        "# The process of vectorizing (tensoring) images and applying them to models was less complex than expected, \n",
        "# and deep learning models can handle such unstructured data and multidimensional information well, and it is very important to optimize hyperparameters to optimize the model."
      ]
    }
  ],
  "metadata": {
    "accelerator": "GPU",
    "colab": {
      "provenance": []
    },
    "gpuClass": "standard",
    "kernelspec": {
      "display_name": "Python 3",
      "name": "python3"
    },
    "language_info": {
      "codemirror_mode": {
        "name": "ipython",
        "version": 3
      },
      "file_extension": ".py",
      "mimetype": "text/x-python",
      "name": "python",
      "nbconvert_exporter": "python",
      "pygments_lexer": "ipython3",
      "version": "3.9.13"
    }
  },
  "nbformat": 4,
  "nbformat_minor": 0
}
