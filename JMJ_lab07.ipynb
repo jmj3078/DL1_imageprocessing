{
  "cells": [
    {
      "attachments": {},
      "cell_type": "markdown",
      "metadata": {
        "id": "D3dotnhNCKsl"
      },
      "source": [
        "## Lab 7 (Image Processing using Convolutional Neural Networks)\n",
        "- CIFAR10 dataset (see https://www.cs.toronto.edu/~kriz/cifar.html for more info)\n",
        "- 60K images: 50K train, 10K test\n",
        "- 10 classes: 'plane', 'car', 'bird', 'cat', 'deer', 'dog', 'frog', 'horse', 'ship', 'truck'\n",
        "- Perform multi-class classification with evaluation accuracy on EACH class\n",
        "\n",
        "**CONNECT TO GPU** before continuing, but just CPU is also fine, it might be a bit slow.\n"
      ]
    },
    {
      "cell_type": "code",
      "execution_count": 1,
      "metadata": {
        "colab": {
          "base_uri": "https://localhost:8080/"
        },
        "id": "nQ8bPH1OCM5h",
        "outputId": "dcd890b7-9d2e-4bc7-a14e-8a063c5a011e"
      },
      "outputs": [
        {
          "name": "stdout",
          "output_type": "stream",
          "text": [
            "cpu\n",
            "Downloading https://www.cs.toronto.edu/~kriz/cifar-10-python.tar.gz to ./cifar-10-python.tar.gz\n"
          ]
        },
        {
          "name": "stderr",
          "output_type": "stream",
          "text": [
            "100%|██████████| 170498071/170498071 [01:21<00:00, 2086362.54it/s]\n"
          ]
        },
        {
          "name": "stdout",
          "output_type": "stream",
          "text": [
            "Extracting ./cifar-10-python.tar.gz to ./\n",
            "Files already downloaded and verified\n"
          ]
        }
      ],
      "source": [
        "import torch\n",
        "import torch.nn as nn\n",
        "import torch.nn.functional as F\n",
        "import torchvision\n",
        "import torchvision.transforms as transforms\n",
        "import matplotlib.pyplot as plt\n",
        "import numpy as np\n",
        "\n",
        "# Device configuration\n",
        "device = torch.device('cuda' if torch.cuda.is_available() else 'cpu')\n",
        "print(device)\n",
        "\n",
        "# Hyper parameters\n",
        "num_epochs = 4\n",
        "batch_size = 4\n",
        "learning_rate = 0.001\n",
        "\n",
        "# Download and prepare dataset\n",
        "# Transform them to tensors and normalise them\n",
        "transform = transforms.Compose(\n",
        "    [transforms.ToTensor(),\n",
        "     transforms.Normalize((0.5, 0.5, 0.5), (0.5, 0.5, 0.5))\n",
        "     ])\n",
        "\n",
        "# 2.2 Download data\n",
        "train_set = torchvision.datasets.CIFAR10(\"./\", train=True, download=True, transform=transform)\n",
        "test_set = torchvision.datasets.CIFAR10(\"./\", train=False, download=True, transform=transform)\n",
        "\n",
        "# 2.3 Use DataLoader to get batches and shuffle\n",
        "train_loader = torch.utils.data.DataLoader(train_set, batch_size=batch_size, shuffle=True)\n",
        "test_loader = torch.utils.data.DataLoader(test_set, batch_size=batch_size, shuffle=False)\n",
        "\n",
        "classes = ('plane', 'car', 'bird', 'cat', 'deer', 'dog', 'frog', 'horse', 'ship', 'truck')\n",
        "\n",
        "# Q1. Why are there 3 values in each list of the Normalize() function? What does each value and each list represent?\n",
        "# Each of the three input list means mean list, standard deviation list. \n",
        "# Since the given image tensor has three channels(shape.images : 4, 3, 32, 32, the '3' means number of channels of tensor), \n",
        "# the average value and standard deviation value required for applying normalization to each channel were entered in the form of a list with three elements.\n",
        "# From Torchvision Docs : mean-Sequence of means for each channel, std-Sequence of standard deviations for each channel."
      ]
    },
    {
      "attachments": {},
      "cell_type": "markdown",
      "metadata": {
        "id": "DuhDiijV7CNT"
      },
      "source": [
        "### Inspect the Images"
      ]
    },
    {
      "cell_type": "code",
      "execution_count": 2,
      "metadata": {
        "colab": {
          "base_uri": "https://localhost:8080/"
        },
        "id": "032BETSy6a2K",
        "outputId": "b12c95e4-b370-4242-db3e-00b0afe50c4d"
      },
      "outputs": [
        {
          "name": "stdout",
          "output_type": "stream",
          "text": [
            "Image values: \n",
            "[tensor([[[[ 0.8431,  0.8980,  0.9294,  ...,  0.9765,  0.9843,  0.9922],\n",
            "          [ 0.8902,  0.9137,  0.9137,  ...,  0.9765,  0.9843,  0.9922],\n",
            "          [ 0.9294,  0.8667,  0.8902,  ...,  0.9765,  0.9843,  0.9922],\n",
            "          ...,\n",
            "          [-0.0667,  0.1686, -0.2941,  ...,  0.9059,  0.7569,  0.8039],\n",
            "          [-0.2549,  0.0196, -0.5529,  ...,  0.8745,  0.7961,  0.8667],\n",
            "          [-0.4745, -0.0588,  0.1686,  ...,  0.9137,  0.9137,  0.9451]],\n",
            "\n",
            "         [[ 0.1216,  0.1922,  0.2157,  ...,  0.4588,  0.3961,  0.3647],\n",
            "          [ 0.1765,  0.1922,  0.1843,  ...,  0.4824,  0.4196,  0.3569],\n",
            "          [ 0.2000,  0.1373,  0.1686,  ...,  0.4902,  0.4510,  0.3804],\n",
            "          ...,\n",
            "          [-0.6863, -0.5686, -0.7255,  ...,  0.2078,  0.0118,  0.0510],\n",
            "          [-0.7569, -0.6549, -0.8745,  ...,  0.1373,  0.0510,  0.1373],\n",
            "          [-0.8431, -0.6392, -0.4588,  ...,  0.2078,  0.2000,  0.2392]],\n",
            "\n",
            "         [[-0.8118, -0.8275, -0.8118,  ..., -0.7098, -0.7412, -0.7647],\n",
            "          [-0.8275, -0.8431, -0.8353,  ..., -0.6941, -0.7333, -0.7725],\n",
            "          [-0.8039, -0.8510, -0.8353,  ..., -0.7098, -0.7333, -0.7725],\n",
            "          ...,\n",
            "          [-0.9529, -0.9686, -0.9373,  ..., -0.8039, -0.8902, -0.9059],\n",
            "          [-0.9373, -0.9451, -0.9529,  ..., -0.8510, -0.8980, -0.8824],\n",
            "          [-0.9373, -0.9373, -0.9216,  ..., -0.8353, -0.8510, -0.8196]]],\n",
            "\n",
            "\n",
            "        [[[ 0.9294,  0.9137,  0.9216,  ...,  0.9216,  0.9137,  0.9137],\n",
            "          [ 0.9373,  0.9294,  0.9529,  ...,  0.9451,  0.9373,  0.9373],\n",
            "          [ 0.9373,  0.9373,  0.9608,  ...,  0.9608,  0.9529,  0.9529],\n",
            "          ...,\n",
            "          [ 0.8902,  0.9059,  0.9451,  ...,  0.9529,  0.9451,  0.9294],\n",
            "          [ 0.8902,  0.9137,  0.9451,  ...,  0.9451,  0.9373,  0.9294],\n",
            "          [ 0.8431,  0.8824,  0.9059,  ...,  0.9216,  0.9137,  0.9059]],\n",
            "\n",
            "         [[ 0.8902,  0.8745,  0.8824,  ...,  0.9294,  0.9216,  0.9216],\n",
            "          [ 0.8980,  0.8902,  0.9137,  ...,  0.9529,  0.9451,  0.9451],\n",
            "          [ 0.8980,  0.8980,  0.9216,  ...,  0.9686,  0.9608,  0.9608],\n",
            "          ...,\n",
            "          [ 0.8510,  0.8667,  0.9059,  ...,  0.9608,  0.9529,  0.9373],\n",
            "          [ 0.8510,  0.8745,  0.9059,  ...,  0.9529,  0.9451,  0.9373],\n",
            "          [ 0.8196,  0.8588,  0.8824,  ...,  0.9294,  0.9216,  0.9137]],\n",
            "\n",
            "         [[ 0.8431,  0.8275,  0.8353,  ...,  0.8667,  0.8588,  0.8588],\n",
            "          [ 0.8510,  0.8431,  0.8667,  ...,  0.8902,  0.8824,  0.8824],\n",
            "          [ 0.8431,  0.8510,  0.8745,  ...,  0.9059,  0.8980,  0.8980],\n",
            "          ...,\n",
            "          [ 0.8039,  0.8196,  0.8588,  ...,  0.8980,  0.8902,  0.8745],\n",
            "          [ 0.8039,  0.8275,  0.8588,  ...,  0.8902,  0.8824,  0.8745],\n",
            "          [ 0.7647,  0.8039,  0.8353,  ...,  0.8667,  0.8588,  0.8510]]],\n",
            "\n",
            "\n",
            "        [[[-1.0000, -1.0000, -1.0000,  ..., -1.0000, -1.0000, -1.0000],\n",
            "          [-1.0000, -1.0000, -1.0000,  ..., -1.0000, -1.0000, -1.0000],\n",
            "          [-1.0000, -1.0000, -1.0000,  ..., -1.0000, -1.0000, -1.0000],\n",
            "          ...,\n",
            "          [-0.9843, -0.9843, -0.9843,  ..., -0.6941, -0.5843, -0.9373],\n",
            "          [-0.9922, -1.0000, -0.9922,  ..., -0.5686, -0.5294, -0.8745],\n",
            "          [-1.0000, -0.9922, -0.9843,  ..., -0.8275, -0.7961, -0.9137]],\n",
            "\n",
            "         [[-1.0000, -1.0000, -1.0000,  ..., -1.0000, -1.0000, -1.0000],\n",
            "          [-1.0000, -1.0000, -1.0000,  ..., -1.0000, -1.0000, -1.0000],\n",
            "          [-1.0000, -1.0000, -1.0000,  ..., -1.0000, -1.0000, -1.0000],\n",
            "          ...,\n",
            "          [-0.9843, -0.9843, -0.9843,  ..., -0.6941, -0.5843, -0.9373],\n",
            "          [-0.9922, -1.0000, -0.9922,  ..., -0.5686, -0.5294, -0.8745],\n",
            "          [-1.0000, -0.9922, -0.9843,  ..., -0.8275, -0.7961, -0.9137]],\n",
            "\n",
            "         [[-1.0000, -1.0000, -1.0000,  ..., -1.0000, -1.0000, -1.0000],\n",
            "          [-1.0000, -1.0000, -1.0000,  ..., -1.0000, -1.0000, -1.0000],\n",
            "          [-1.0000, -1.0000, -1.0000,  ..., -1.0000, -1.0000, -1.0000],\n",
            "          ...,\n",
            "          [-0.9843, -0.9843, -0.9843,  ..., -0.6941, -0.5843, -0.9373],\n",
            "          [-0.9922, -1.0000, -0.9922,  ..., -0.5686, -0.5294, -0.8745],\n",
            "          [-1.0000, -0.9922, -0.9843,  ..., -0.8275, -0.7961, -0.9137]]],\n",
            "\n",
            "\n",
            "        [[[-0.1059, -0.1059, -0.0902,  ..., -0.0745, -0.0824, -0.0902],\n",
            "          [-0.0745, -0.0745, -0.0588,  ..., -0.0588, -0.0588, -0.0667],\n",
            "          [-0.0667, -0.0667, -0.0510,  ..., -0.0588, -0.0588, -0.0667],\n",
            "          ...,\n",
            "          [-0.0980, -0.0980, -0.0745,  ..., -0.4980, -0.5373, -0.5608],\n",
            "          [-0.0745, -0.0824, -0.0745,  ..., -0.6000, -0.6392, -0.6627],\n",
            "          [-0.0902, -0.0824, -0.0745,  ..., -0.6941, -0.7333, -0.7255]],\n",
            "\n",
            "         [[ 0.0824,  0.0824,  0.0980,  ...,  0.0745,  0.0510,  0.0431],\n",
            "          [ 0.0980,  0.0980,  0.1216,  ...,  0.0980,  0.0745,  0.0667],\n",
            "          [ 0.1059,  0.1059,  0.1137,  ...,  0.0980,  0.0824,  0.0745],\n",
            "          ...,\n",
            "          [-0.1686, -0.1686, -0.1451,  ..., -0.5608, -0.6000, -0.6314],\n",
            "          [-0.1451, -0.1451, -0.1373,  ..., -0.6706, -0.7176, -0.7412],\n",
            "          [-0.1608, -0.1529, -0.1451,  ..., -0.7647, -0.8118, -0.8039]],\n",
            "\n",
            "         [[ 0.2863,  0.2784,  0.2941,  ...,  0.2706,  0.2627,  0.2627],\n",
            "          [ 0.2941,  0.2941,  0.3098,  ...,  0.2941,  0.2784,  0.2706],\n",
            "          [ 0.2784,  0.2784,  0.2863,  ...,  0.2784,  0.2627,  0.2549],\n",
            "          ...,\n",
            "          [-0.3569, -0.3490, -0.3255,  ..., -0.7176, -0.7255, -0.7490],\n",
            "          [-0.3176, -0.3255, -0.3098,  ..., -0.8118, -0.8275, -0.8431],\n",
            "          [-0.3490, -0.3412, -0.3333,  ..., -0.8980, -0.9059, -0.8980]]]]), tensor([3, 2, 5, 0])]\n",
            "Length: 2\n",
            "Type: <class 'list'>\n",
            "torch.Size([4, 3, 32, 32])\n",
            "tensor([3, 2, 5, 0])\n"
          ]
        }
      ],
      "source": [
        "# Access the first data sample in the train_set using next(iter())\n",
        "batch = next(iter(train_loader))\n",
        "print(f'Image values: \\n{batch}')\n",
        "print(f'Length: {len(batch)}')\n",
        "print(f'Type: {type(batch)}')\n",
        "\n",
        "# This means the data contains image-label pairs\n",
        "# Unpack them\n",
        "images, labels = batch\n",
        "# Same as these two lines:\n",
        "# image = batch[0]\n",
        "# label = batch[1]\n",
        "\n",
        "print(images.shape)\n",
        "print(labels)\n",
        "\n",
        "# Q2. What is the range of the values for the normalised image pixels?\n",
        "# -1 to 1.\n",
        "\n",
        "# Q3. What does each index value of the shape of the image represent?\n",
        "# he tensor has a shape of (batch_size=4, channels=3, height=32, width=32).\n",
        "# In the context of image processing tasks, this shape indicates that the tensor represents a batch of 4 RGB images,\n",
        "# where each image has a height and width of 32 pixels. The channels dimension corresponds to the red, green, and blue channels of each image.\n",
        "\n",
        "# Q4. What do the label values represent?\n",
        "# It means the index of the class to which each image belongs. \n",
        "# Since four image data are stored in one batch, the index of the class corresponding to each of the four images is shown.\n",
        "# The index ranges from 0 to 9.\n",
        "# if index : tensor([6, 1, 4, 9]) -> 'frog', 'car', 'deer', 'truck'"
      ]
    },
    {
      "attachments": {},
      "cell_type": "markdown",
      "metadata": {
        "id": "71_0Ci7gZkqV"
      },
      "source": [
        "### View some images\n",
        "- Note that images have been normalised and may not look very clear"
      ]
    },
    {
      "cell_type": "code",
      "execution_count": 3,
      "metadata": {
        "colab": {
          "base_uri": "https://localhost:8080/",
          "height": 359
        },
        "id": "Zwz0kGvfuL6d",
        "outputId": "3005dd05-c647-4448-de3c-1ddd892612af"
      },
      "outputs": [
        {
          "name": "stderr",
          "output_type": "stream",
          "text": [
            "Clipping input data to the valid range for imshow with RGB data ([0..1] for floats or [0..255] for integers).\n"
          ]
        },
        {
          "name": "stdout",
          "output_type": "stream",
          "text": [
            "class labels: tensor([3, 2, 5, 0])\n"
          ]
        },
        {
          "data": {
            "text/plain": [
              "<matplotlib.image.AxesImage at 0x7f975a2298b0>"
            ]
          },
          "execution_count": 3,
          "metadata": {},
          "output_type": "execute_result"
        },
        {
          "data": {
            "image/png": "[encoded data removed]",
            "text/plain": [
              "<Figure size 1200x1200 with 1 Axes>"
            ]
          },
          "metadata": {},
          "output_type": "display_data"
        }
      ],
      "source": [
        "# Create a grid \n",
        "plt.figure(figsize=(12,12))\n",
        "grid = torchvision.utils.make_grid(tensor=images, nrow=4) # nrow = number of images displayed in each row\n",
        "\n",
        "print(f\"class labels: {labels}\")\n",
        "\n",
        "# Use grid.permute() to transpose the grid so that the axes meet the specifications required by \n",
        "# plt.imshow(), which are [height, width, channels]. PyTorch dimensions are [channels, height, width].\n",
        "plt.imshow(grid.permute(1,2,0))"
      ]
    },
    {
      "attachments": {},
      "cell_type": "markdown",
      "metadata": {
        "id": "jVMti_g2J-W5"
      },
      "source": [
        "## CNN model"
      ]
    },
    {
      "cell_type": "code",
      "execution_count": 4,
      "metadata": {
        "id": "tWePXqBQKAp7"
      },
      "outputs": [],
      "source": [
        "class Test(nn.Module):\n",
        "  def __init__(self):\n",
        "    super().__init__()\n",
        "    self.conv1 = nn.Conv2d(3, 6, 5, padding=1)\n",
        "    self.relu = nn.ReLU()\n",
        "    self.pool = nn.MaxPool2d(2, 2)\n",
        "    self.conv2 = nn.Conv2d(6, 16, 5) \n",
        "    # flatten 3D tensor to 1D tensor\n",
        "    self.fc1 = nn.Linear(400, 128) # Q8. Fill out the correct input dimensions \n",
        "    self.fc2 = nn.Linear(128, 64)\n",
        "    self.fc3 = nn.Linear(64, 10) # final output matches num_classes\n",
        "\n",
        "  def forward(self, x):\n",
        "    # Conv + ReLU + pool\n",
        "    print(f'Input shape: {x.shape}')\n",
        "    out = self.conv1(x)\n",
        "    print(f'After Conv1: {out.shape}')\n",
        "    print(f'Padding: {self.conv1.padding}')\n",
        "    out = self.pool(F.relu(out))\n",
        "    print(f'After Pool1: {out.shape}')\n",
        "    out = self.conv2(out)\n",
        "    print(f'After Conv2: {out.shape}')\n",
        "    out = self.pool(F.relu(out))\n",
        "    print(f'After Pool2: {out.shape}')\n",
        "    # Flatten it before fc1\n",
        "    out = out.reshape(-1, 400) # Q8. Fill out the correct dimension after -1\n",
        "    print(f'Before fc1: {out.shape}')\n",
        "    out = self.fc1(out)\n",
        "    out = self.relu(out)\n",
        "    print(f'After fc1: {out.shape}')\n",
        "    out = self.fc2(out)\n",
        "    out = self.relu(out)\n",
        "    print(f'After fc2: {out.shape}')\n",
        "    out = self.fc3(out) # NO softmax as it will be included in CrossEntropyLoss\n",
        "    print(f'After fc3: {out.shape}')\n",
        "    return out\n",
        "\n",
        "\n",
        "model = Test().to(device)\n",
        "# Let's view the softmax output\n",
        "probs = nn.Softmax(dim=1)\n",
        "\n",
        "\n",
        "# Q5. What do the three arguments of the first convolutional layer, conv1 represent (3,6,5)? \n",
        "# 3 : the number of input channels, since given image has 3 channels(RGB), the conv1 must have '3' on this argument \n",
        "# 6 : the number of filters, the output has a depth of number of filters because each filter produces one channel in the output.  \n",
        "# 5 : the kernal size\n",
        "\n",
        "# Q6. Explain the arguments of the second convolutional layer, conv2 (6, 16, 5) \n",
        "# 6 : the number of input channels\n",
        "# 16 : the number of filters, the output has a depth of number of filters because each filter produces one channel in the output.  \n",
        "# 5 : the kernal size\n",
        "\n",
        "# Q7. Figure out the convolved image size after conv1\n",
        "# Convolved image size = ((input_width - filter_size + 2 * padding) / stride) + 1\n",
        "# convolved image size = ((32 - 5 + 2*1) / 1) + 1 = 30\n",
        "\n",
        "# Q8. Figure out the input size to the first fcn layer and fill out the code above in init() and forward()\n",
        "# The shape of output after conv1, pool, conv2, pool, relu layer is (4, 16, 5, 5).\n",
        "# Since the second argument of reshape() specifies the total number of elements of feature image, in the tensor after reshaping to a 1D tensor,\n",
        "# the answer is 16*5*5 = 400."
      ]
    },
    {
      "attachments": {},
      "cell_type": "markdown",
      "metadata": {
        "id": "EZk7fcriftFm"
      },
      "source": [
        "### Run through a sample batch"
      ]
    },
    {
      "cell_type": "code",
      "execution_count": 8,
      "metadata": {
        "colab": {
          "base_uri": "https://localhost:8080/"
        },
        "id": "JW7t-qz-FjGp",
        "outputId": "bbd515a1-ed0d-47da-92ff-7fc6b0d4177f"
      },
      "outputs": [
        {
          "name": "stdout",
          "output_type": "stream",
          "text": [
            "Output shape: torch.Size([4, 10])\n",
            "Softmax outputs:\n",
            " tensor([[8.0758e-01, 7.3856e-03, 7.6887e-02, 4.0760e-03, 1.3486e-02, 2.2135e-03,\n",
            "         8.1445e-05, 8.0920e-02, 6.0576e-03, 1.3131e-03],\n",
            "        [1.8116e-03, 4.4795e-04, 2.7097e-02, 2.8127e-01, 1.0087e-01, 5.5771e-01,\n",
            "         1.9485e-02, 9.9171e-03, 1.1498e-03, 2.4194e-04],\n",
            "        [1.6491e-03, 2.4200e-04, 3.2177e-01, 4.4972e-02, 1.0562e-01, 4.6018e-01,\n",
            "         7.5634e-03, 5.6119e-02, 1.2196e-03, 6.6326e-04],\n",
            "        [3.5809e-02, 1.6886e-02, 4.8371e-02, 5.6453e-02, 3.4027e-01, 8.1828e-02,\n",
            "         1.1997e-02, 2.8365e-01, 3.4306e-02, 9.0436e-02]],\n",
            "       grad_fn=<SoftmaxBackward0>)\n"
          ]
        }
      ],
      "source": [
        "sample = next(iter(train_loader))\n",
        "\n",
        "images, labels = sample\n",
        "\n",
        "images = images.to(device)\n",
        "labels = labels.to(device)\n",
        "\n",
        "output = model(images)\n",
        "print(f'Output shape: {output.shape}')\n",
        "print(f'Softmax outputs:\\n {probs(output)}')\n",
        "\n",
        "\n",
        "# Q9. Explain the shape of the output after conv1\n",
        "# torch.Size([4, 6, 28, 28])\n",
        "# The batch size does not change. Because the batch size of the given image is 4, it remains the same.\n",
        "# The output has a depth of 'num_filters'=6 because each filter produces one channel in the output. \n",
        "# The height and width of the output are determined by the size of the filter (5x5), \n",
        "# the padding used (if any), and the stride used (in this case, stride=1). Using the formula \n",
        "# output image size = ((W - F + 2P) / S) + 1 as explained in the previous question, the output would have a size of 28x28.\n",
        "\n",
        "# Q10. What does the pooling do to the dimensions of the feature images here?\n",
        "# Since MaxPool2d with a pool size of 2x2 and stride of 2 is used, \n",
        "# the height and width of the output feature maps are half of the height and width of the input feature images, respectively.\n",
        "\n",
        "# Pooling operates on each channel of the input feature maps separately, taking the maximum value over a local neighborhood of pixels. \n",
        "# This reduces the spatial resolution of the feature maps, while preserving the most salient features. \n",
        "# This can help to reduce overfitting and improve computational efficiency of NN model.\n",
        "\n",
        "# Q11. Add padding=1 to conv1 and rerun the last two code cells. How did padding affect the dimensions of the feature images?\n",
        "# output image size = ((W - F + 2P) / S) + 1\n",
        "# After the conv1, the shape of output : torch.Size([4, 6, 30, 30])\n",
        "# ((32-5+2)/1)+1 = 30, the height and width of feature images increased than before\n",
        "\n",
        "# Q12. What is represented by each list returned by Softmax outputs?\n",
        "# The output of the Softmax function is a probability distribution over the classes in classification probelem.\n",
        "# Since there are 10 classes, it was returned in the form of a 2D tensor with a size(4*10) \n",
        "# indicating the logit value corresponding to each class of images in the batch, respectively.\n"
      ]
    },
    {
      "attachments": {},
      "cell_type": "markdown",
      "metadata": {
        "id": "eQj3gsf7Y6Ql"
      },
      "source": [
        "\n",
        "### Let's Train!\n",
        "- Now that we know and understand how CNNs work, let's put everything together for CIFAR-10 dataset\n",
        "  - Download the data in batches and normalisation with shuffling\n",
        "  - Build a model with 2 CNN layers containing ReLU and pooling\n",
        "  - Passing the feature images to 3 fully connected layers (FCNs) also containing RELU activation\n",
        "  - The final layer has 10 units to reprsent the number of output classes\n",
        "  - Use Binary Cross Entropy Loss and SGD optimiser\n",
        "  - Evaluate the model on the test data on EACH class\n",
        "\n",
        "**IMPORTANT!** Fill out the missing code below before training "
      ]
    },
    {
      "cell_type": "code",
      "execution_count": 9,
      "metadata": {
        "id": "-1_4tKL4X3WQ"
      },
      "outputs": [],
      "source": [
        "class CNN(nn.Module):\n",
        "  def __init__(self):\n",
        "    super().__init__()\n",
        "    self.conv1 = nn.Conv2d(3, 6, 5)\n",
        "    self.relu = nn.ReLU()\n",
        "    self.pool = nn.MaxPool2d(2, 2)\n",
        "    self.conv2 = nn.Conv2d(6, 16, 5) \n",
        "    # flatten 3D tensor to 1D tensor\n",
        "    self.fc1 = nn.Linear(400, 128) # TODO\n",
        "    self.fc2 = nn.Linear(128, 64)\n",
        "    self.fc3 = nn.Linear(64, 10) # final output matches num_classes\n",
        "\n",
        "  def forward(self, x):\n",
        "    # Conv + ReLU + pool\n",
        "    out = self.pool(F.relu(self.conv1(x)))\n",
        "    out = self.pool(F.relu(self.conv2(out)))\n",
        "    # Flatten it before fc1\n",
        "    out = out.reshape(-1, 400) # TODO\n",
        "    out = F.relu(self.fc1(out))\n",
        "    out = F.relu(self.fc2(out))\n",
        "    out = self.fc3(out) # NO softmax as it will be included in CrossEntropyLoss\n",
        "    return out\n",
        "\n",
        "\n",
        "model = CNN().to(device)\n",
        "\n",
        "# Q13. Use the Cross Entropy Loss for this task (UNCOMMENT & COMPLETE CODE BELOW)\n",
        "criterion = nn.CrossEntropyLoss()\n",
        "\n",
        "# Q14. Use the Stochastic Gradient Descent (SGD) optimiser, this time ADD momentum=0.9 (UNCOMMENT & COMPLETE CODE BELOW)\n",
        "import torch.optim as optim\n",
        "opt = optim.SGD(model.parameters(), lr=learning_rate, momentum=0.9)\n"
      ]
    },
    {
      "attachments": {},
      "cell_type": "markdown",
      "metadata": {
        "id": "Zlg2FFaJKppP"
      },
      "source": [
        "## Training loop"
      ]
    },
    {
      "cell_type": "code",
      "execution_count": 7,
      "metadata": {
        "colab": {
          "base_uri": "https://localhost:8080/"
        },
        "id": "e15E85ZQKr1R",
        "outputId": "7de506d1-aba2-4c77-e196-c6ef4f869455"
      },
      "outputs": [
        {
          "name": "stdout",
          "output_type": "stream",
          "text": [
            "Epoch 1/4, Iteration 1000/12500, Loss=2.3370 \n",
            "Epoch 1/4, Iteration 2000/12500, Loss=1.9753 \n",
            "Epoch 1/4, Iteration 3000/12500, Loss=2.0315 \n",
            "Epoch 1/4, Iteration 4000/12500, Loss=1.7766 \n",
            "Epoch 1/4, Iteration 5000/12500, Loss=1.0002 \n",
            "Epoch 1/4, Iteration 6000/12500, Loss=1.2944 \n",
            "Epoch 1/4, Iteration 7000/12500, Loss=1.4550 \n",
            "Epoch 1/4, Iteration 8000/12500, Loss=1.0454 \n",
            "Epoch 1/4, Iteration 9000/12500, Loss=1.5537 \n",
            "Epoch 1/4, Iteration 10000/12500, Loss=1.1972 \n",
            "Epoch 1/4, Iteration 11000/12500, Loss=0.7386 \n",
            "Epoch 1/4, Iteration 12000/12500, Loss=2.5292 \n",
            "Epoch 2/4, Iteration 1000/12500, Loss=0.7618 \n",
            "Epoch 2/4, Iteration 2000/12500, Loss=1.1494 \n",
            "Epoch 2/4, Iteration 3000/12500, Loss=1.4192 \n",
            "Epoch 2/4, Iteration 4000/12500, Loss=1.1864 \n",
            "Epoch 2/4, Iteration 5000/12500, Loss=1.3398 \n",
            "Epoch 2/4, Iteration 6000/12500, Loss=1.1420 \n",
            "Epoch 2/4, Iteration 7000/12500, Loss=0.3626 \n",
            "Epoch 2/4, Iteration 8000/12500, Loss=0.9433 \n",
            "Epoch 2/4, Iteration 9000/12500, Loss=0.8705 \n",
            "Epoch 2/4, Iteration 10000/12500, Loss=1.7990 \n",
            "Epoch 2/4, Iteration 11000/12500, Loss=1.1999 \n",
            "Epoch 2/4, Iteration 12000/12500, Loss=1.7178 \n",
            "Epoch 3/4, Iteration 1000/12500, Loss=1.6959 \n",
            "Epoch 3/4, Iteration 2000/12500, Loss=0.9038 \n",
            "Epoch 3/4, Iteration 3000/12500, Loss=1.1392 \n",
            "Epoch 3/4, Iteration 4000/12500, Loss=1.4385 \n",
            "Epoch 3/4, Iteration 5000/12500, Loss=1.8955 \n",
            "Epoch 3/4, Iteration 6000/12500, Loss=0.5996 \n",
            "Epoch 3/4, Iteration 7000/12500, Loss=1.8900 \n",
            "Epoch 3/4, Iteration 8000/12500, Loss=1.5216 \n",
            "Epoch 3/4, Iteration 9000/12500, Loss=1.2177 \n",
            "Epoch 3/4, Iteration 10000/12500, Loss=0.4221 \n",
            "Epoch 3/4, Iteration 11000/12500, Loss=0.6976 \n",
            "Epoch 3/4, Iteration 12000/12500, Loss=0.4738 \n",
            "Epoch 4/4, Iteration 1000/12500, Loss=1.8217 \n",
            "Epoch 4/4, Iteration 2000/12500, Loss=0.7499 \n",
            "Epoch 4/4, Iteration 3000/12500, Loss=1.1616 \n",
            "Epoch 4/4, Iteration 4000/12500, Loss=1.1594 \n",
            "Epoch 4/4, Iteration 5000/12500, Loss=0.1758 \n",
            "Epoch 4/4, Iteration 6000/12500, Loss=0.6309 \n",
            "Epoch 4/4, Iteration 7000/12500, Loss=0.8555 \n",
            "Epoch 4/4, Iteration 8000/12500, Loss=1.1377 \n",
            "Epoch 4/4, Iteration 9000/12500, Loss=0.3721 \n",
            "Epoch 4/4, Iteration 10000/12500, Loss=1.5381 \n",
            "Epoch 4/4, Iteration 11000/12500, Loss=0.6927 \n",
            "Epoch 4/4, Iteration 12000/12500, Loss=1.4333 \n"
          ]
        }
      ],
      "source": [
        "n_total_steps = len(train_set)\n",
        "n_iterations = -(-n_total_steps // batch_size) # ceiling division\n",
        "\n",
        "for epoch in range(num_epochs):\n",
        "  for i, (images, labels) in enumerate(train_loader):\n",
        "    #print(images.shape) # [4,3,32,32] batch size, channels, img dim\n",
        "    images = images.to(device)\n",
        "    labels = labels.to(device)\n",
        "\n",
        "    # Forward pass\n",
        "    outputs = model(images)\n",
        "    loss = criterion(outputs, labels)\n",
        "\n",
        "    # Backward pass and Optimise\n",
        "    opt.zero_grad()\n",
        "    loss.backward()\n",
        "    opt.step()\n",
        "\n",
        "    # Print\n",
        "    if (i+1) % 1000 == 0:\n",
        "      print(f'Epoch {epoch+1}/{num_epochs}, Iteration {i+1}/{n_iterations}, Loss={loss.item():.4f} ')\n",
        "\n"
      ]
    },
    {
      "attachments": {},
      "cell_type": "markdown",
      "metadata": {
        "id": "HahXHRsSMo6H"
      },
      "source": [
        "## Evaluation"
      ]
    },
    {
      "cell_type": "code",
      "execution_count": 10,
      "metadata": {
        "colab": {
          "base_uri": "https://localhost:8080/"
        },
        "id": "iIuqYw8JMqy-",
        "outputId": "bb75cc87-b148-439c-a330-bca5eb9b30cc"
      },
      "outputs": [
        {
          "name": "stdout",
          "output_type": "stream",
          "text": [
            "Test Accuracy of the WHOLE CNN = 10.0 %\n",
            "Accuracy of plane: 0.0 %\n",
            "Accuracy of car: 0.0 %\n",
            "Accuracy of bird: 0.0 %\n",
            "Accuracy of cat: 0.0 %\n",
            "Accuracy of deer: 100.0 %\n",
            "Accuracy of dog: 0.0 %\n",
            "Accuracy of frog: 0.0 %\n",
            "Accuracy of horse: 0.0 %\n",
            "Accuracy of ship: 0.0 %\n",
            "Accuracy of truck: 0.0 %\n"
          ]
        }
      ],
      "source": [
        "# Deactivate the autograd engine to reduce memory usage and speed up computations (backprop disabled).\n",
        "with torch.no_grad():\n",
        "  n_correct = 0\n",
        "  n_samples = 0\n",
        "  n_class_correct = [0 for i in range(10)]\n",
        "  n_class_samples = [0 for i in range(10)]\n",
        "\n",
        "\n",
        "  # Loop through test set\n",
        "  for images, labels in test_loader:\n",
        "    # Put images on GPU\n",
        "    images = images.to(device)\n",
        "    labels = labels.to(device)\n",
        "    # Run on trained model\n",
        "    outputs = model(images) \n",
        "\n",
        "    # Get predictions\n",
        "    # torch.max() returns actual probability value (ignored) and index or class label (selected)\n",
        "    _, y_preds = torch.max(outputs, 1)\n",
        "    n_samples += labels.size(0) # different to FFNN\n",
        "    n_correct += (y_preds == labels).sum().item()\n",
        "\n",
        "    # Keep track of each class\n",
        "    for i in range(batch_size):\n",
        "      label = labels[i]\n",
        "      pred = y_preds[i]\n",
        "      if (label == pred):\n",
        "        n_class_correct[label] += 1\n",
        "      n_class_samples[label] += 1\n",
        "\n",
        "  # Print accuracy\n",
        "  acc = 100.0 * n_correct / n_samples\n",
        "  print(f'Test Accuracy of the WHOLE CNN = {acc} %')\n",
        "\n",
        "  for i in range(len(classes)):\n",
        "    acc = 100.0 * n_class_correct[i] / n_class_samples[i]\n",
        "    print(f'Accuracy of {classes[i]}: {acc} %')\n"
      ]
    },
    {
      "cell_type": "code",
      "execution_count": null,
      "metadata": {
        "id": "5TKj_ZV-Dzzn"
      },
      "outputs": [],
      "source": [
        "# Q15. Why don't we need to reshape the input images when training and testing?\n",
        "# In PyTorch, Convolutional layers are designed to work with input images of any size. \n",
        "# When we define a convolutional layer, we specify the size of the filters and the stride, \n",
        "# and the layer automatically computes the output size of the convolutional operation based on the size of the input image.\n",
        "# This means that we can use images of different sizes during training and testing, as long as they have the same number of channels (e.g., RGB images have 3 channels). \n",
        "\n",
        "# Q16. Try to improve the model performance, e.g. by increasing the epochs, changing batch size, adding convolutions, etc.\n",
        "# Provide the code chunk showing the improved accuracy on the test set below. What changes did you make?"
      ]
    },
    {
      "cell_type": "code",
      "execution_count": 8,
      "metadata": {
        "colab": {
          "base_uri": "https://localhost:8080/"
        },
        "id": "teqrOqg4GhzE",
        "outputId": "3b349916-9d81-4ccc-efe3-c401def9bc97"
      },
      "outputs": [
        {
          "name": "stdout",
          "output_type": "stream",
          "text": [
            "Files already downloaded and verified\n",
            "Files already downloaded and verified\n",
            "Test Accuracy of the WHOLE CNN = 62.82 %\n",
            "Accuracy of plane: 74.59016393442623 %\n",
            "Accuracy of car: 75.38461538461539 %\n",
            "Accuracy of bird: 56.36363636363637 %\n",
            "Accuracy of cat: 45.689655172413794 %\n",
            "Accuracy of deer: 53.125 %\n",
            "Accuracy of dog: 56.89655172413793 %\n",
            "Accuracy of frog: 72.53521126760563 %\n",
            "Accuracy of horse: 61.940298507462686 %\n",
            "Accuracy of ship: 75.53956834532374 %\n",
            "Accuracy of truck: 72.56637168141593 %\n",
            "Test Accuracy of the WHOLE CNN = 63.98 %\n",
            "Accuracy of plane: 67.21311475409836 %\n",
            "Accuracy of car: 84.61538461538461 %\n",
            "Accuracy of bird: 41.81818181818182 %\n",
            "Accuracy of cat: 38.793103448275865 %\n",
            "Accuracy of deer: 68.75 %\n",
            "Accuracy of dog: 71.55172413793103 %\n",
            "Accuracy of frog: 79.5774647887324 %\n",
            "Accuracy of horse: 69.40298507462687 %\n",
            "Accuracy of ship: 74.10071942446044 %\n",
            "Accuracy of truck: 70.79646017699115 %\n",
            "Test Accuracy of the WHOLE CNN = 62.48 %\n",
            "Accuracy of plane: 66.39344262295081 %\n",
            "Accuracy of car: 83.07692307692308 %\n",
            "Accuracy of bird: 49.09090909090909 %\n",
            "Accuracy of cat: 47.41379310344828 %\n",
            "Accuracy of deer: 55.46875 %\n",
            "Accuracy of dog: 56.03448275862069 %\n",
            "Accuracy of frog: 72.53521126760563 %\n",
            "Accuracy of horse: 62.6865671641791 %\n",
            "Accuracy of ship: 84.89208633093526 %\n",
            "Accuracy of truck: 68.14159292035399 %\n",
            "Test Accuracy of the WHOLE CNN = 60.66 %\n",
            "Accuracy of plane: 61.47540983606557 %\n",
            "Accuracy of car: 82.3076923076923 %\n",
            "Accuracy of bird: 38.18181818181818 %\n",
            "Accuracy of cat: 53.44827586206897 %\n",
            "Accuracy of deer: 53.90625 %\n",
            "Accuracy of dog: 56.03448275862069 %\n",
            "Accuracy of frog: 65.49295774647888 %\n",
            "Accuracy of horse: 63.43283582089552 %\n",
            "Accuracy of ship: 74.82014388489209 %\n",
            "Accuracy of truck: 64.60176991150442 %\n"
          ]
        }
      ],
      "source": [
        "import torch.optim as optim\n",
        "batch_size = 8 # increased the batch size to get faster results\n",
        "learning_rate = 0.001\n",
        "\n",
        "transform = transforms.Compose(\n",
        "    [transforms.ToTensor(),\n",
        "     transforms.Normalize((0.5, 0.5, 0.5), (0.5, 0.5, 0.5))\n",
        "     ])\n",
        "\n",
        "train_set = torchvision.datasets.CIFAR10(\"./\", train=True, download=True, transform=transform)\n",
        "test_set = torchvision.datasets.CIFAR10(\"./\", train=False, download=True, transform=transform)\n",
        "\n",
        "train_loader = torch.utils.data.DataLoader(train_set, batch_size=batch_size, shuffle=True)\n",
        "test_loader = torch.utils.data.DataLoader(test_set, batch_size=batch_size, shuffle=False)\n",
        "\n",
        "classes = ('plane', 'car', 'bird', 'cat', 'deer', 'dog', 'frog', 'horse', 'ship', 'truck')\n",
        "\n",
        "\n",
        "class CNN(nn.Module):\n",
        "  def __init__(self):\n",
        "    super().__init__()\n",
        "    self.conv1 = nn.Conv2d(3, 6, 5)\n",
        "    self.relu = nn.ReLU()\n",
        "    self.pool = nn.MaxPool2d(2, 2)\n",
        "    self.conv2 = nn.Conv2d(6, 16, 5) \n",
        "    # flatten 3D tensor to 1D tensor\n",
        "    self.fc1 = nn.Linear(400, 128) # TODO\n",
        "    self.fc2 = nn.Linear(128, 64)\n",
        "    self.fc3 = nn.Linear(64, 10) # final output matches num_classes\n",
        "\n",
        "  def forward(self, x):\n",
        "    # Conv + ReLU + pool\n",
        "    out = self.pool(F.relu(self.conv1(x)))\n",
        "    out = self.pool(F.relu(self.conv2(out)))\n",
        "    # Flatten it before fc1\n",
        "    out = out.reshape(-1, 400) # TODO\n",
        "    out = F.relu(self.fc1(out))\n",
        "    out = F.relu(self.fc2(out))\n",
        "    out = self.fc3(out) # NO softmax as it will be included in CrossEntropyLoss\n",
        "    return out\n",
        "\n",
        "# optimizing number of epochs.\n",
        "num_epochs_list = [6, 10, 14, 18]\n",
        "model = CNN().to(device)\n",
        "criterion = nn.CrossEntropyLoss()\n",
        "opt = optim.SGD(model.parameters(), lr=learning_rate, momentum=0.9)\n",
        "\n",
        "n_total_steps = len(train_set)\n",
        "n_iterations = -(-n_total_steps // batch_size) # ceiling division\n",
        "\n",
        "for num_epochs in num_epochs_list:\n",
        "    for epoch in range(num_epochs):\n",
        "        for i, (images, labels) in enumerate(train_loader):\n",
        "            images = images.to(device)\n",
        "            labels = labels.to(device)\n",
        "\n",
        "            # Forward pass\n",
        "            outputs = model(images)\n",
        "            loss = criterion(outputs, labels)\n",
        "\n",
        "            # Backward pass and Optimise\n",
        "            opt.zero_grad()\n",
        "            loss.backward()\n",
        "            opt.step()\n",
        "\n",
        "    with torch.no_grad():\n",
        "        n_correct = 0   \n",
        "        n_samples = 0\n",
        "        n_class_correct = [0 for i in range(10)]\n",
        "        n_class_samples = [0 for i in range(10)]\n",
        "\n",
        "\n",
        "    for images, labels in test_loader:\n",
        "        images = images.to(device)\n",
        "        labels = labels.to(device)\n",
        "        outputs = model(images) \n",
        "        _, y_preds = torch.max(outputs, 1)\n",
        "        n_samples += labels.size(0) \n",
        "        n_correct += (y_preds == labels).sum().item()\n",
        "        for i in range(batch_size):\n",
        "            label = labels[i]\n",
        "            pred = y_preds[i]\n",
        "        if (label == pred):\n",
        "            n_class_correct[label] += 1\n",
        "        n_class_samples[label] += 1\n",
        "\n",
        "    # Print accuracy\n",
        "    acc = 100.0 * n_correct / n_samples\n",
        "    print(f'Test Accuracy of the WHOLE CNN = {acc} %')\n",
        "\n",
        "    for i in range(len(classes)):\n",
        "        acc = 100.0 * n_class_correct[i] / n_class_samples[i]\n",
        "        print(f'Accuracy of {classes[i]}: {acc} %')"
      ]
    },
    {
      "cell_type": "code",
      "execution_count": null,
      "metadata": {
        "id": "kXVedMHUIR7Y"
      },
      "outputs": [],
      "source": [
        "# It showed the best performance when the number of epochs was 10."
      ]
    }
  ],
  "metadata": {
    "accelerator": "GPU",
    "colab": {
      "provenance": []
    },
    "gpuClass": "standard",
    "kernelspec": {
      "display_name": "Python 3",
      "name": "python3"
    },
    "language_info": {
      "codemirror_mode": {
        "name": "ipython",
        "version": 3
      },
      "file_extension": ".py",
      "mimetype": "text/x-python",
      "name": "python",
      "nbconvert_exporter": "python",
      "pygments_lexer": "ipython3",
      "version": "3.9.13"
    }
  },
  "nbformat": 4,
  "nbformat_minor": 0
}
