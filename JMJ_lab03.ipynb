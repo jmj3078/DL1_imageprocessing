{
  "cells": [
    {
      "attachments": {},
      "cell_type": "markdown",
      "metadata": {
        "id": "dpLdkiC81rw_"
      },
      "source": [
        "# Lab 3 – First Neural Network\n",
        "- Work on saved a copy on your Drive, name your file appropriately, e.g. `GN-lab03.ipynb` (Korean students, please put the initial of your **family name first** because that's how you appear in the register, e.g. Kim Ji Hwan should be `KJH`)\n",
        "- Run ALL the code cells and answer the questions (code or text) before submitting the notebook. Code cell output should be visible in your submission.\n",
        "- Save your notebook (`Ctrl+S`) before downloading and submitting on iCampus. ONLY ipynb files or URL links will be accepted.\n",
        "\n",
        "## A. Implementing a basic \"forward\" pass\n",
        "Try to visualise what each neural network model looks like in terms of neurons, weights and biases.\n"
      ]
    },
    {
      "cell_type": "code",
      "execution_count": 1,
      "metadata": {
        "id": "Xakn64iC_F1r"
      },
      "outputs": [],
      "source": [
        "import sys\n",
        "import matplotlib as plt\n",
        "import numpy as np\n",
        "import torch"
      ]
    },
    {
      "attachments": {},
      "cell_type": "markdown",
      "metadata": {
        "id": "iWvkX4ap2WfO"
      },
      "source": [
        "## The Perceptron (Single Neuron)\n",
        "- Every non-input NEURON has a bias, not every weight, so the bias is added for a single output neuron\n",
        "- 1 output neuron with 3 inputs"
      ]
    },
    {
      "cell_type": "code",
      "execution_count": null,
      "metadata": {
        "colab": {
          "base_uri": "https://localhost:8080/"
        },
        "id": "rq_kLhOr_QqD",
        "outputId": "86cbf638-d346-4136-d49d-dfd19a66ed70"
      },
      "outputs": [
        {
          "name": "stdout",
          "output_type": "stream",
          "text": [
            "4.96\n",
            "Final perceptron output = 1\n"
          ]
        }
      ],
      "source": [
        "# Initialise some values\n",
        "input = [0.8, 1.3, 2.5]\n",
        "weights = [2.5, 1.7, -0.5]\n",
        "bias = 2\n",
        "\n",
        "# Get the weigthed sum of the inputs and add the bias\n",
        "output = input[0]*weights[0] + input[1]*weights[1] + input[2]*weights[2] + bias\n",
        "print(output)\n",
        "\n",
        "# Add a step function; output is 1 if it is 0 or more, 0 otherwise\n",
        "output = 1 if output >= 0 else 0\n",
        "\n",
        "# Print perceptron's final output\n",
        "print(f'Final perceptron output = {output}') \n",
        "\n",
        "# TODO\n",
        "# Q1. Think of a ML problem or task where a neural network would have a final output to be 0 or 1.\n",
        "# Binary classification problem. For example, a nueral network model can be used to predict whether an email is spam or not spam. \n",
        "# The input to model would be the email content, and output would be 0 (Not spam) or 1 (spam).\n"
      ]
    },
    {
      "attachments": {},
      "cell_type": "markdown",
      "metadata": {
        "id": "7w-UJYm5MTsZ"
      },
      "source": [
        "### Example 2: Multiple neurons\n",
        "- Each neuron will have its own WEIGHT associated to each input\n",
        "- As before, each NEURON will have its own BIAS"
      ]
    },
    {
      "cell_type": "code",
      "execution_count": null,
      "metadata": {
        "colab": {
          "base_uri": "https://localhost:8080/"
        },
        "id": "Zxqlna_eMqpj",
        "outputId": "ac0a0b73-2982-465c-8a1e-2c57b6708316"
      },
      "outputs": [
        {
          "name": "stdout",
          "output_type": "stream",
          "text": [
            "[6.96, 1.867, 2.106]\n"
          ]
        }
      ],
      "source": [
        "#inputs = [0.8, 1.3, 2.5, 2.0] # A sample of 4 features, e.g. temperature, humidity, wind, pressure\n",
        "\n",
        "input = [0.8, 1.3, 2.5, 2.0]\n",
        "\n",
        "weights1 = [2.5, 1.7, -0.5, 1.0]\n",
        "weights2 = [0.5, -0.91, 0.26, -0.5]\n",
        "weights3 = [-0.26, -0.27, 0.17, 0.87]\n",
        "\n",
        "bias1 = 2\n",
        "bias2 = 3\n",
        "bias3 = 0.5\n",
        "\n",
        "output = [input[0]*weights1[0] + input[1]*weights1[1] + input[2]*weights1[2] + input[3]*weights1[3] + bias1,\n",
        "          input[0]*weights2[0] + input[1]*weights2[1] + input[2]*weights2[2] + input[3]*weights2[3] + bias2,\n",
        "          input[0]*weights3[0] + input[1]*weights3[1] + input[2]*weights3[2] + input[3]*weights3[3] + bias3]\n",
        "\n",
        "print(output)\n",
        "\n",
        "# TODO\n",
        "# Q2. How many output neurons does this network contain?\n",
        "# 3"
      ]
    },
    {
      "attachments": {},
      "cell_type": "markdown",
      "metadata": {
        "id": "T9KdBdw1PzAO"
      },
      "source": [
        "### Use Loops and Matrices!\n",
        "\n",
        "\n"
      ]
    },
    {
      "cell_type": "code",
      "execution_count": null,
      "metadata": {
        "colab": {
          "base_uri": "https://localhost:8080/"
        },
        "id": "cDrkbsgzQtPZ",
        "outputId": "5ec7f738-862e-40df-ebb6-a84f8b92fd91"
      },
      "outputs": [
        {
          "name": "stdout",
          "output_type": "stream",
          "text": [
            "<zip object at 0x7efe19558180>\n",
            "[6.96, 1.867, 2.106]\n"
          ]
        }
      ],
      "source": [
        "inputs = [0.8, 1.3, 2.5, 2.0]\n",
        "\n",
        "weights = [[2.5, 1.7, -0.5, 1.0], \n",
        "           [0.5, -0.91, 0.26, -0.5],\n",
        "           [-0.26, -0.27, 0.17, 0.87]]\n",
        "\n",
        "biases = [2, 3, 0.5]\n",
        "\n",
        "layer_outputs = [] # Outputs of current layer\n",
        "for weight, bias in zip(weights, biases):\n",
        "    output = 0 # Reset current neuron output to 0\n",
        "    for input, w in zip(inputs, weight):\n",
        "        output += input*w\n",
        "    output += bias\n",
        "    layer_outputs.append(output)\n",
        "\n",
        "print(zip(weights, biases))\n",
        "print(layer_outputs)\n"
      ]
    },
    {
      "attachments": {},
      "cell_type": "markdown",
      "metadata": {
        "id": "ikyggUJxXtPr"
      },
      "source": [
        "## Let's use NumPy & Dot Products!\n",
        "- Multiply elements wise the corresponding values in two arrays and add them up\n",
        "- Dot product between two vectors results in a single scalar value\n"
      ]
    },
    {
      "cell_type": "code",
      "execution_count": null,
      "metadata": {
        "colab": {
          "base_uri": "https://localhost:8080/"
        },
        "id": "MJekSFlcXwM8",
        "outputId": "cdb83e59-a883-4be1-9091-be7a6fbf9457"
      },
      "outputs": [
        {
          "name": "stdout",
          "output_type": "stream",
          "text": [
            "6.96\n"
          ]
        }
      ],
      "source": [
        "import numpy as np\n",
        "\n",
        "inputs = np.array([0.8, 1.3, 2.5, 2.0])\n",
        "weights = np.array([2.5, 1.7, -0.5, 1.0])\n",
        "bias = 2\n",
        "\n",
        "output = np.dot(weights, inputs) + bias\n",
        "print(output)"
      ]
    },
    {
      "attachments": {},
      "cell_type": "markdown",
      "metadata": {
        "id": "D2L-U4yRaCXu"
      },
      "source": [
        "When performing a dot product between a vector (input) and a matrix (weights)\n",
        "  - Weights have to be first parameter of ``np.dot()``, otherwise an error will be thrown\n",
        "  - Column size of ``weights`` = row size of ``inputs``\n"
      ]
    },
    {
      "cell_type": "code",
      "execution_count": null,
      "metadata": {
        "colab": {
          "base_uri": "https://localhost:8080/"
        },
        "id": "r9AoCO93aL6B",
        "outputId": "71caaad7-66d9-4bfd-e0c1-113c8e43ee56"
      },
      "outputs": [
        {
          "name": "stdout",
          "output_type": "stream",
          "text": [
            "[6.96  1.867 2.106]\n"
          ]
        }
      ],
      "source": [
        "inputs = np.array([0.8, 1.3, 2.5, 2.0])\n",
        "\n",
        "weights = np.array([[2.5, 1.7, -0.5, 1.0], \n",
        "           [0.5, -0.91, 0.26, -0.5],\n",
        "           [-0.26, -0.27, 0.17, 0.87]])\n",
        "\n",
        "biases = np.array([2, 3, 0.5])\n",
        "\n",
        "output = np.dot(weights, inputs) + biases # dot product of a vector and a matrix\n",
        "\n",
        "print(output)\n",
        "\n",
        "# TODO\n",
        "# Q3. What else can we do to perform the dot product between the inputs and weights?\n",
        "# We can use torch.dot() for vectors. \n",
        "# In case of 2-D tensor, we can use torch.mm(), torch.matmul(), or just @ operator."
      ]
    },
    {
      "attachments": {},
      "cell_type": "markdown",
      "metadata": {
        "id": "mTxtXoYEb0ea"
      },
      "source": [
        "## Summary\n",
        "- Weights and biases are two different tools for approximating something (e.g. an output from an input)\n",
        "- Weights determine how much influence this input has for the output (as it is multiplied) and bias determines how much this output can be offset by the input (as it is added)\n",
        "- Think of a classical equation for a line ``y = wx + b`` where ``w`` is the weight and ``b`` is a the bias"
      ]
    },
    {
      "attachments": {},
      "cell_type": "markdown",
      "metadata": {
        "id": "qiPxh-XmJqPT"
      },
      "source": [
        "## Dot product between two 2-D arrays (two matrices)\n",
        "- Numpy's ``np.dot()`` is flexible; it computes the inner product for 1D arrays and performs matrix multiplication for 2D arrays.\n",
        "- Since both matrices have the same size, transpose the second matrix, i.e. ``weights`` here so that ``1st-col-size=2nd-row-size`` holds \n"
      ]
    },
    {
      "cell_type": "code",
      "execution_count": null,
      "metadata": {
        "colab": {
          "base_uri": "https://localhost:8080/"
        },
        "id": "PhGET9UWKoIL",
        "outputId": "1308f319-2b8e-462b-caaf-b1c7ea893e17"
      },
      "outputs": [
        {
          "name": "stdout",
          "output_type": "stream",
          "text": [
            "[[ 6.96   1.867  2.106]\n",
            " [12.9    1.523  4.058]\n",
            " [ 0.39   1.051  0.026]] \n",
            "(3, 3)\n"
          ]
        }
      ],
      "source": [
        "# inputs 3x4\n",
        "inputs = np.array([[0.8, 1.3, 2.5, 2.0],\n",
        "          [2.3, 1.5, 3.8, 4.5],\n",
        "          [-1.5, 2.7, 3.3, -0.8]])\n",
        "\n",
        "# weights 3x4\n",
        "weights = np.array([[2.5, 1.7, -0.5, 1.0], \n",
        "           [0.5, -0.91, 0.26, -0.5],\n",
        "           [-0.26, -0.27, 0.17, 0.87]])\n",
        "\n",
        "biases = np.array([2, 3, 0.5])\n",
        "\n",
        "output = np.dot(inputs, weights.T) + biases\n",
        "\n",
        "print(f'{output} \\n{output.shape}')\n",
        "\n",
        "# TODO\n",
        "# Q4. Explain what it means to have a 2-D array for the input and also for the output\n",
        "# Having 2-D array for the input means input that is organized as matrix, where each row represents observation (obs) and columns represents features or variables.\n",
        "# Having 2-D array for the output means prediction, or classification results corresponding to the input observation in the same row. \n"
      ]
    },
    {
      "attachments": {},
      "cell_type": "markdown",
      "metadata": {
        "id": "HJCjLVN4ZrL8"
      },
      "source": [
        "## Let's use Tensors!\n",
        "- ``torch.dot()`` behaves differently to ``np.dot()`` \n",
        "- ``torch.dot(a,b)`` treats both ``a`` and ``b`` as 1D vectors (irrespective of their original shape) and computes their inner product.\n",
        "- Several ways to do matrix (rank 2 tensor) multiplication:\n",
        "  - ``ab = a.mm(b)``\n",
        "  - ``ab = torch.mm(a, b)``\n",
        "  - ``ab = torch.matmul(a, b)``\n",
        "  - ``ab = a @ b # Python 3.5+``\n",
        "- The number of columns of the first matrix must be equal to the number of rows of the second matrix.\n",
        "- The function ``torch.matmul()`` performs matrix multiplications if both arguments are 2D and computes their dot product if both arguments are 1D.\n"
      ]
    },
    {
      "cell_type": "code",
      "execution_count": null,
      "metadata": {
        "colab": {
          "base_uri": "https://localhost:8080/"
        },
        "id": "8qlNIDiPxSrF",
        "outputId": "819b5d0b-e901-4680-b7ed-f918d3e645cb"
      },
      "outputs": [
        {
          "data": {
            "text/plain": [
              "tensor(7)"
            ]
          },
          "execution_count": 9,
          "metadata": {},
          "output_type": "execute_result"
        }
      ],
      "source": [
        "# 1-D tensor dot product\n",
        "a = torch.tensor([1, 2])\n",
        "b = torch.tensor([3, 2])\n",
        "\n",
        "torch.dot(a, b)"
      ]
    },
    {
      "cell_type": "code",
      "execution_count": null,
      "metadata": {
        "colab": {
          "base_uri": "https://localhost:8080/"
        },
        "id": "puj-YybH0E6g",
        "outputId": "5d86485d-a7cb-426e-cea4-7dd08e7c1099"
      },
      "outputs": [
        {
          "data": {
            "text/plain": [
              "tensor([[ 3,  7],\n",
              "        [ 5, 12]])"
            ]
          },
          "execution_count": 10,
          "metadata": {},
          "output_type": "execute_result"
        }
      ],
      "source": [
        "# 2-D tensor dot product for matrices with matching column and row size\n",
        "a = torch.tensor([\n",
        "    [0, 1, 2],\n",
        "    [1, 2, 3]\n",
        "])\n",
        "\n",
        "b = torch.tensor([\n",
        "    [0, 1],\n",
        "    [1, 1],\n",
        "    [1, 3]\n",
        "])\n",
        "\n",
        "torch.mm(a,b)\n"
      ]
    },
    {
      "attachments": {},
      "cell_type": "markdown",
      "metadata": {
        "id": "WwHbk4uPA6gw"
      },
      "source": [
        "### Dot product between two 2-D tensors from the example"
      ]
    },
    {
      "cell_type": "code",
      "execution_count": null,
      "metadata": {
        "colab": {
          "base_uri": "https://localhost:8080/"
        },
        "id": "JoK1kTu_Zu7K",
        "outputId": "0b5e2311-6007-4109-e01b-bdc2865bbc3b"
      },
      "outputs": [
        {
          "name": "stdout",
          "output_type": "stream",
          "text": [
            "tensor([[ 6.9600,  1.8670,  2.1060],\n",
            "        [12.9000,  1.5230,  4.0580],\n",
            "        [ 0.3900,  1.0510,  0.0260]], dtype=torch.float64) torch.Size([3, 3])\n",
            "tensor([[ 6.9600,  1.8670,  2.1060],\n",
            "        [12.9000,  1.5230,  4.0580],\n",
            "        [ 0.3900,  1.0510,  0.0260]], dtype=torch.float64) torch.Size([3, 3])\n"
          ]
        }
      ],
      "source": [
        "input = torch.tensor(inputs)\n",
        "weight = torch.tensor(weights)\n",
        "bias = torch.tensor(biases)\n",
        "\n",
        "output = torch.matmul(input, torch.transpose(weight, 0, 1)) + bias\n",
        "print(output, output.shape)\n",
        "\n",
        "# TODO\n",
        "# Q5. repeat using the @ operator. You should get the same output\n",
        "weight_t = torch.transpose(weight, 0, 1)\n",
        "output = input@weight_t + bias\n",
        "print(output, output.shape)"
      ]
    },
    {
      "attachments": {},
      "cell_type": "markdown",
      "metadata": {
        "id": "5jBRPHQKG3lt"
      },
      "source": [
        "### Exercise: Write your own code using TENSORS to implement a neural network as follows:\n",
        "- Has 5 input neurons made up of random numbers between 0 and 1\n",
        "- Connects to two output neurons\n",
        "- Weights and biases should be random numbers between a normal distribution. Use `torch.randn()`\n",
        "- The final outputs should be a combination of the weighted sum followed by an activation function as follows:\n",
        "  - If the weighted sum is negative, then the output is 0\n",
        "  - Otherwise the output is just the weighted sum\n"
      ]
    },
    {
      "cell_type": "code",
      "execution_count": null,
      "metadata": {
        "colab": {
          "base_uri": "https://localhost:8080/"
        },
        "id": "dvDjJncONJpx",
        "outputId": "8d3bc823-90a8-4882-9f3a-f9e6b346746a"
      },
      "outputs": [
        {
          "name": "stdout",
          "output_type": "stream",
          "text": [
            "tensor([0.0000, 2.1563])\n"
          ]
        }
      ],
      "source": [
        "# Q6. Has 5 input neurons made up of random numbers between 0 and 1. Use torch.rand()\n",
        "input = torch.rand(5)\n",
        "# Q7. Weights should be random numbers between a normal distribution. Use torch.randn()\n",
        "weight = torch.randn(2,5)\n",
        "# Q8. Biases should be random numbers between a normal distribution. Use torch.randn()\n",
        "bias = torch.randn(2)\n",
        "# Q9. The outputs should be a combination of the weighted sum of the inputs followed by an activation given below in 10.\n",
        "output = torch.matmul(input, torch.transpose(weight, 0, 1)) + bias # weighted sum\n",
        "# Q10. If the weighted sum is negative, then the output is 0, otherwise the output is just the weighted sum\n",
        "output[output < 0 ] = 0 \n",
        "# Print out the final output values\n",
        "print(output)"
      ]
    },
    {
      "attachments": {},
      "cell_type": "markdown",
      "metadata": {
        "id": "0KvsIo2UfwO3"
      },
      "source": [
        "## B. Build NN Model using ``torch.nn.Module``\n",
        "- Create a subclass of nn.Module\n",
        "- Define layers and activations\n",
        "- Do a forward pass to inspect the model, parameters and outputs\n",
        "- Add loss, optimiser and training loop for linear regression"
      ]
    },
    {
      "cell_type": "code",
      "execution_count": 3,
      "metadata": {
        "colab": {
          "base_uri": "https://localhost:8080/"
        },
        "id": "RuZwA3o9ZWZz",
        "outputId": "26167ee0-9427-4446-d9e5-b57f8776c2e9"
      },
      "outputs": [
        {
          "name": "stdout",
          "output_type": "stream",
          "text": [
            "The model:\n",
            "TinyModel(\n",
            "  (linear1): Linear(in_features=100, out_features=200, bias=True)\n",
            "  (activation): ReLU()\n",
            "  (linear2): Linear(in_features=200, out_features=10, bias=True)\n",
            "  (softmax): Softmax(dim=None)\n",
            ")\n",
            "\n",
            "\n",
            "Just one layer:\n",
            "Linear(in_features=200, out_features=10, bias=True)\n",
            "\n",
            "\n",
            "Linear2 layer params:\n",
            "Parameter containing:\n",
            "tensor([[ 0.0060, -0.0167, -0.0039,  ...,  0.0609, -0.0697, -0.0662],\n",
            "        [ 0.0661, -0.0065, -0.0313,  ...,  0.0577, -0.0564,  0.0098],\n",
            "        [-0.0565, -0.0178,  0.0706,  ...,  0.0052, -0.0198, -0.0681],\n",
            "        ...,\n",
            "        [ 0.0008, -0.0440, -0.0124,  ..., -0.0407,  0.0093,  0.0448],\n",
            "        [ 0.0618, -0.0539, -0.0387,  ..., -0.0671,  0.0552, -0.0505],\n",
            "        [-0.0282, -0.0666, -0.0383,  ...,  0.0661,  0.0666, -0.0680]],\n",
            "       requires_grad=True)\n",
            "Parameter containing:\n",
            "tensor([-0.0584,  0.0667, -0.0058, -0.0531,  0.0175,  0.0459,  0.0560, -0.0496,\n",
            "        -0.0064,  0.0581], requires_grad=True)\n"
          ]
        }
      ],
      "source": [
        "import torch\n",
        "\n",
        "import torch.nn as nn\n",
        "\n",
        "class TinyModel(nn.Module): # TinyModel is a subclass of nn.Module\n",
        "    \n",
        "    def __init__(self):\n",
        "        super().__init__()\n",
        "        self.linear1 = nn.Linear(100, 200) # input_size and hidden_size\n",
        "        self.activation = nn.ReLU() # Rectified Linear Unit activation function\n",
        "        self.linear2 = nn.Linear(200, 10) # hidden layer and output layer size\n",
        "        self.softmax = nn.Softmax() # output layer activation function\n",
        "    \n",
        "    def forward(self, x):\n",
        "        out = self.linear1(x)\n",
        "        out = self.activation(out)\n",
        "        out = self.linear2(out)\n",
        "        out = self.softmax(out)\n",
        "        return out\n",
        "\n",
        "# Create an instance of TinyModel (like initalising a variable)\n",
        "tinymodel = TinyModel()\n",
        "\n",
        "# See what this model contains\n",
        "print('The model:')\n",
        "print(tinymodel)\n",
        "\n",
        "# Print out one of the layers\n",
        "print('\\n\\nJust one layer:')\n",
        "print(tinymodel.linear2)\n",
        "\n",
        "# View ALL the parameters (weights and biases)\n",
        "# print('\\n\\nModel params:')\n",
        "# for param in tinymodel.parameters():\n",
        "#     print(param)\n",
        "\n",
        "# View the parameters (weights and biases) in the LAST layer (linear2) only\n",
        "print('\\n\\nLinear2 layer params:')\n",
        "for param in tinymodel.linear2.parameters():\n",
        "    print(param)"
      ]
    },
    {
      "attachments": {},
      "cell_type": "markdown",
      "metadata": {
        "id": "RcjYoJIAAD8-"
      },
      "source": [
        "### Linear layer demo\n",
        "\n",
        "For the code chunk below, note that:\n",
        "- the weight, bias and output tensor dimensions are as expected (weight matrix is in transposed form, i.e. has shape (out_features, in_features)\n",
        "- the multiplication of the inputs with the weight matrices, added with the bias will produce the output"
      ]
    },
    {
      "cell_type": "code",
      "execution_count": null,
      "metadata": {
        "colab": {
          "base_uri": "https://localhost:8080/"
        },
        "id": "j6RhRO_CZWZ1",
        "outputId": "248b625e-3673-4d5e-99cd-9144da1ef6af"
      },
      "outputs": [
        {
          "name": "stdout",
          "output_type": "stream",
          "text": [
            "Input:\n",
            "tensor([[0.1238, 0.8692, 0.6769]])\n",
            "\n",
            "\n",
            "Weight and Bias parameters:\n",
            "Parameter containing:\n",
            "tensor([[ 0.1187, -0.0480, -0.0962],\n",
            "        [ 0.0486, -0.2089,  0.1816]], requires_grad=True)\n",
            "Parameter containing:\n",
            "tensor([0.2361, 0.3950], requires_grad=True)\n",
            "\n",
            "\n",
            "Output:\n",
            "tensor([[0.1439, 0.3423]], grad_fn=<AddmmBackward0>)\n"
          ]
        }
      ],
      "source": [
        "# Create a linear layer with 3 inputs and 2 outputs\n",
        "lin = torch.nn.Linear(3, 2)\n",
        "# Create sample input vector with random values\n",
        "x = torch.rand(1, 3)\n",
        "print('Input:')\n",
        "print(x)\n",
        "\n",
        "# Print the initial parameter values (these are also randomly set)\n",
        "print('\\n\\nWeight and Bias parameters:')\n",
        "for param in lin.parameters():\n",
        "    print(param)\n",
        "\n",
        "# Apply the linear layer to the input\n",
        "y = lin(x)\n",
        "print('\\n\\nOutput:')\n",
        "print(y)\n"
      ]
    },
    {
      "attachments": {},
      "cell_type": "markdown",
      "metadata": {
        "id": "7rX90VHvC0kZ"
      },
      "source": [
        "- Note that you see ``requires_grad`` for the parameters. This means that their values will be tracked and used for **gradient** calculation during the training phase.\n",
        "- Although ``Parameter`` is a subclass of ``Tensor``, it has a special extended behaviour in that its gradients can be tracked for NN learning purposes.\n"
      ]
    },
    {
      "attachments": {},
      "cell_type": "markdown",
      "metadata": {
        "id": "pSMHg7NXqUcp"
      },
      "source": [
        "### Add Training Loop, Loss and Optimiser\n",
        "- A loop is necessary to allow NN training to happen iteratively.\n",
        "- The number of times we want to repeat the cycle is called number of epochs.\n",
        "- Loss functions tell us how far a model's prediction is from the correct answer. PyTorch contains a variety of loss functions, including common MSE (mean squared error = L2 norm), Cross Entropy Loss and Negative Likelihood Loss (useful for classifiers), and others.\n",
        "- An optimiser helps to minimise the loss by taking iterative steps in the direction that minimises the loss by updating the parameters in each epoch. We will use Stochastic Gradient Descent (SGD) for this example.\n",
        "\n",
        "\n",
        "## Example: Linear Regression\n",
        "1. Provide training data. We will provide the inputs, ``x`` and outputs, ``y`` for the formula ``y = 3x + 2``. \n",
        "  - Remember to provide them as tensors. \n",
        "  - Note that ``y`` will have to be correct values that satisfy the formula.\n",
        "2. Define the NN class. \n",
        "  - Since we will only take in a number and also spit out a number, we will have the ``input_size`` to be 1 and the ``output_size`` to be 1 as well. \n",
        "  - For linear regression, the output will be a real value, so no output layer activation function is needed.\n",
        "  - Note also that an extra parameter ``hidden_size`` was added to the initialiser\n",
        "3. Create an instance of the NN class\n",
        "  - Pass in the required parameter ``hidden_size``\n",
        "4. Define Loss and Optimiser\n",
        "  - for this linear regression problem, we will use the MSE Loss and SGD optimiser\n",
        "5. Training Loop\n",
        "  - Loop through a set number of times, e.g. 100\n",
        "    - forward pass to calculate the predicted values for each input sample and calculate the loss using the loss instance you created earlier\n",
        "    - backward pass to first reset all the gradients ``opt.zero_grad()``, then to calculate the gradients of the loss w.r.t. the params ``loss.backward()`` and finally update the params accordingly ``opt.step()``\n",
        "\n",
        "6. Test the model\n",
        "  - At this point, the model has been trained, i.e. the parameters have been optimised and the loss should be small enough.\n",
        "  - Call ``model()`` with any new number to test what the trained model will predict. See how accurately it performs.\n",
        "  - Test with several other numbers.\n",
        "\n",
        "### NOTES:\n",
        "- Data will need to be prepared so that it can be used with PyTorch. Here we have specified the data as a tensor and also made sure that it is of type float. \n",
        "- It is good practice to specify hyper parameters separately, e.g. ``hidden_size``, ``learning_rate``, ``num_epochs``, etc.\n"
      ]
    },
    {
      "cell_type": "code",
      "execution_count": 22,
      "metadata": {
        "colab": {
          "base_uri": "https://localhost:8080/"
        },
        "id": "MdiTwoHS93b3",
        "outputId": "de5dcbbb-9c4c-4fd4-eace-1e7ee2b4552f"
      },
      "outputs": [
        {
          "name": "stdout",
          "output_type": "stream",
          "text": [
            "Epoch 10/100, Loss=0.1653 \n",
            "Epoch 20/100, Loss=0.1217 \n",
            "Epoch 30/100, Loss=0.0911 \n",
            "Epoch 40/100, Loss=0.0684 \n",
            "Epoch 50/100, Loss=0.0516 \n",
            "Epoch 60/100, Loss=0.0390 \n",
            "Epoch 70/100, Loss=0.0295 \n",
            "Epoch 80/100, Loss=0.0223 \n",
            "Epoch 90/100, Loss=0.0170 \n",
            "Epoch 100/100, Loss=0.0129 \n"
          ]
        }
      ],
      "source": [
        "import torch\n",
        "\n",
        "import torch.nn as nn\n",
        "\n",
        "\n",
        "# 1. Define training data for a simple mathematical formula y = 3x + 2 for x=1, ..., 5\n",
        "x = torch.tensor([[1],[2],[3],[4],[5]], dtype=torch.float32)\n",
        "y = torch.tensor([[5],[8],[11],[14],[17]], dtype=torch.float32)\n",
        "\n",
        "# 2. Define NN class \n",
        "class MyNN(nn.Module): # TinyModel is a subclass of nn.Module\n",
        "    \n",
        "    def __init__(self, hidden_size):\n",
        "        super().__init__()\n",
        "        self.linear1 = nn.Linear(1, hidden_size) # input_size and hidden_size\n",
        "        self.activation = nn.ReLU() # Rectified Linear Unit activation function\n",
        "        self.linear2 = nn.Linear(hidden_size, 1) # hidden layer and output layer size\n",
        "        # output layer is a real value for regression, does not need any activation\n",
        "    \n",
        "    def forward(self, x):\n",
        "        x = self.linear1(x)\n",
        "        x = self.activation(x)\n",
        "        x = self.linear2(x)\n",
        "        return x\n",
        "\n",
        "# 3. Create an instance of NN model and define the hidden_size\n",
        "hidden_size = 4\n",
        "model = MyNN(hidden_size) # now 'model' will be a callable function\n",
        "\n",
        "# 4. Loss and Optimiser\n",
        "learning_rate = 0.01\n",
        "loss_fn = nn.MSELoss() # now 'loss_fn' will be a callable function\n",
        "opt = torch.optim.SGD(model.parameters(), lr=learning_rate)\n",
        "\n",
        "# 5. Training loop\n",
        "num_epochs = 100\n",
        "\n",
        "for epoch in range(num_epochs):\n",
        "  # 5.1 Forward pass\n",
        "  y_pred = model(x)\n",
        "  loss = loss_fn(y_pred, y) \n",
        "\n",
        "  # 5.2 Backward pass\n",
        "  opt.zero_grad() # Reset gradients at each epoch\n",
        "  loss.backward() # Backpropagate the loss gradients w.r.t the params\n",
        "  opt.step() # Update params\n",
        "\n",
        "  # 5.3 Print loss every 10th epoch\n",
        "  if (epoch+1) % 10 == 0:\n",
        "    print(f'Epoch {epoch+1}/{num_epochs}, Loss={loss.item():.4f} ')\n"
      ]
    },
    {
      "cell_type": "code",
      "execution_count": null,
      "metadata": {
        "colab": {
          "base_uri": "https://localhost:8080/"
        },
        "id": "zatxfhYejeB8",
        "outputId": "9c3c156e-934c-4dc2-c738-28318841c455"
      },
      "outputs": [
        {
          "name": "stdout",
          "output_type": "stream",
          "text": [
            "\n",
            "\n",
            "Model prediction for 10 is 31.8430\n"
          ]
        }
      ],
      "source": [
        "# 6. Prediction\n",
        "# Test the model on any new x\n",
        "test_num = 10\n",
        "test = torch.tensor([test_num], dtype=torch.float32)\n",
        "\n",
        "# Get the model's prediction for this test number\n",
        "print(f'\\n\\nModel prediction for {test_num} is {model(test).item():.4f}')"
      ]
    },
    {
      "cell_type": "code",
      "execution_count": 90,
      "metadata": {
        "colab": {
          "base_uri": "https://localhost:8080/"
        },
        "id": "RvmHgY1oDLiB",
        "outputId": "f9077355-d998-4728-cd8c-f12eadd2997f"
      },
      "outputs": [
        {
          "name": "stdout",
          "output_type": "stream",
          "text": [
            "Epoch 20/200, Loss=0.0005 \n",
            "Epoch 40/200, Loss=0.0002 \n",
            "Epoch 60/200, Loss=0.0001 \n",
            "Epoch 80/200, Loss=0.0001 \n",
            "Epoch 100/200, Loss=0.0000 \n",
            "Epoch 120/200, Loss=0.0000 \n",
            "Epoch 140/200, Loss=0.0000 \n",
            "Epoch 160/200, Loss=0.0000 \n",
            "Epoch 180/200, Loss=0.0000 \n",
            "Epoch 200/200, Loss=0.0000 \n",
            "\n",
            "Model prediction for 10 is 32.0773, 200 epochs, 4 hidden layer\n",
            "error = 0.0773\n",
            "\n",
            "Epoch 10/100, Loss=0.2377\n",
            "Epoch 20/100, Loss=0.1583\n",
            "Epoch 30/100, Loss=0.1056\n",
            "Epoch 40/100, Loss=0.0706\n",
            "Epoch 50/100, Loss=0.0472\n",
            "Epoch 60/100, Loss=0.0315\n",
            "Epoch 70/100, Loss=0.0210\n",
            "Epoch 80/100, Loss=0.0141\n",
            "Epoch 90/100, Loss=0.0094\n",
            "Epoch 100/100, Loss=0.0063\n",
            "\n",
            "Model prediction for 10 is 32.3221, 100 epochs, 8 hidden layer\n",
            "error = 0.3221\n",
            "\n"
          ]
        }
      ],
      "source": [
        "# TODO\n",
        "# Q11. Did the loss decrease over time during training?\n",
        "# Yes\n",
        "\n",
        "# Q12. Was the prediction of the model for x=10 close to the ideal value that it should have?\n",
        "# Yes, ideal number was 32, and model prediction for 10 was 31.8430. \n",
        "# error = 0.1570\n",
        "\n",
        "# Q13. Change the num_epochs to 200 and retrain the model. Is the prediction for x=10 better? Why?\n",
        "# Retraining Model\n",
        "num_epochs = 200\n",
        "hidden_size = 4\n",
        "model = MyNN(hidden_size)\n",
        "learning_rate = 0.01\n",
        "loss_fn = nn.MSELoss() \n",
        "opt = torch.optim.SGD(model.parameters(), lr=learning_rate)\n",
        "\n",
        "for epoch in range(num_epochs):\n",
        "\n",
        "  y_pred = model(x)\n",
        "  loss = loss_fn(y_pred, y) \n",
        "  opt.zero_grad() \n",
        "  loss.backward() \n",
        "  opt.step() \n",
        "\n",
        "  if (epoch+1) % 20 == 0:\n",
        "    print(f'Epoch {epoch+1}/{num_epochs}, Loss={loss.item():.4f} ')\n",
        "\n",
        "\n",
        "test_num = 10\n",
        "test = torch.tensor([test_num], dtype=torch.float32)\n",
        "error = abs(round((test_num*3+2 - model(test).item()),4))\n",
        "print(f'\\nModel prediction for {test_num} is {model(test).item():.4f}, 200 epochs, 4 hidden layer\\nerror = {error}\\n')\n",
        "\n",
        "# As error = 0.0773, The prediction for x=10 is better than the previous model. \n",
        "# As the process of repeating learning increases, optimization seems to have worked better.\n",
        "\n",
        "# Q14. Set num_epoch=100 and change the hidden_size to 8. Retrain the model. Is the model's performance better?\n",
        "num_epochs = 100\n",
        "hidden_size = 8\n",
        "model = MyNN(hidden_size)\n",
        "learning_rate = 0.01\n",
        "loss_fn = nn.MSELoss() \n",
        "opt = torch.optim.SGD(model.parameters(), lr=learning_rate)\n",
        "\n",
        "for epoch in range(num_epochs):\n",
        "  y_pred = model(x)\n",
        "  loss = loss_fn(y_pred, y) \n",
        "  opt.zero_grad() \n",
        "  loss.backward() \n",
        "  opt.step() \n",
        "\n",
        "  if (epoch+1) % 10 == 0:\n",
        "    print(f'Epoch {epoch+1}/{num_epochs}, Loss={loss.item():.4f}')\n",
        "\n",
        "test_num = 10\n",
        "test = torch.tensor([test_num], dtype=torch.float32)\n",
        "error = abs(round((test_num*3+2 - model(test).item()),4))\n",
        "print(f'\\nModel prediction for {test_num} is {model(test).item():.4f}, 100 epochs, 8 hidden layer\\nerror = {error}\\n')\n",
        "\n",
        "# As error = 0.3221, it cannot be said that prediction result is better."
      ]
    },
    {
      "cell_type": "code",
      "execution_count": 81,
      "metadata": {
        "colab": {
          "base_uri": "https://localhost:8080/"
        },
        "id": "NhqzUlDeEoPu",
        "outputId": "3c389587-e020-4c83-d536-36ab38102b5c"
      },
      "outputs": [
        {
          "name": "stdout",
          "output_type": "stream",
          "text": [
            "<Model prediction for 10>\n",
            "\n",
            "Best epoch size : 500.0\n",
            "Best hidden size : 6.0\n",
            "with error : 0.0004\n"
          ]
        }
      ],
      "source": [
        "# Q15. Try increasing or decreasing num_epoch and/or hidden_size to see which combination gives you the best model. \n",
        "# Keep the output of your code execution above for the best combination and state which combination of num_epoch \n",
        "# and hidden_size values gave you the best model.\n",
        "from itertools import permutations \n",
        "\n",
        "x = torch.tensor([[1],[2],[3],[4],[5]], dtype=torch.float32)\n",
        "y = torch.tensor([[5],[8],[11],[14],[17]], dtype=torch.float32)\n",
        "test_num = 10\n",
        "\n",
        "def MyNN_func(num_epochs, hidden_size):\n",
        "    model = MyNN(hidden_size)\n",
        "    learning_rate = 0.01\n",
        "    loss_fn = nn.MSELoss() \n",
        "    opt = torch.optim.SGD(model.parameters(), lr=learning_rate)\n",
        "\n",
        "    for epoch in range(num_epochs):\n",
        "        y_pred = model(x)\n",
        "        loss = loss_fn(y_pred, y) \n",
        "        opt.zero_grad() \n",
        "        loss.backward() \n",
        "        opt.step() \n",
        "\n",
        "    test = torch.tensor([test_num], dtype=torch.float32)\n",
        "    error = abs(round(test_num*3+2 - model(test).item(),4))\n",
        "    return error \n",
        "\n",
        "\n",
        "num_epochs = [100, 200, 300, 400, 500, 600]\n",
        "hidden_sizes = [2,4,6,8, 10]\n",
        "temp = np.array([[0,0,0]], dtype=np.float64)\n",
        "for epoch in num_epochs :\n",
        "    for size in hidden_sizes :\n",
        "        row_add = [[epoch, size, MyNN_func(epoch, size)]]\n",
        "        temp = np.r_[temp, row_add]\n",
        "\n",
        "results = np.delete(temp, 0, axis = 0)\n",
        "best = results[results[:,2].argmin(), :]\n",
        "\n",
        "# results, model withs smallest test error\n",
        "print(f'<Model prediction for 10>\\n\\nBest epoch size : {best[0]}\\nBest hidden size : {best[1]}\\nwith error : {best[2]}')\n"
      ]
    },
    {
      "attachments": {},
      "cell_type": "markdown",
      "metadata": {
        "id": "oj6pLZXIX3Q_"
      },
      "source": [
        "### Let's plot the landscape of the MSE loss over a range of values for weight\n",
        "- The sample training data has function ``y=3x+2``. However, this relationship is **NOT** known by the model. We only have ``x``'s and ``y``'s.\n",
        "- So we try different values of weight, ``w``, between -1 and 5 to fit the equation ``y = wx + 2``\n",
        "- When we do that, we calculate the MSE loss between the predicted outcome, ``pred`` and the actual outcome, ``y`` for each ``w`` that we use.\n",
        "- The loss that occurred for each weight is plotted and connected."
      ]
    },
    {
      "cell_type": "code",
      "execution_count": 70,
      "metadata": {
        "colab": {
          "base_uri": "https://localhost:8080/",
          "height": 295
        },
        "id": "-GM_vu-urCfd",
        "outputId": "cafb3a8e-0b7e-4ca6-f29f-2592e6685cdd"
      },
      "outputs": [
        {
          "data": {
            "image/png": "[encoded data removed]",
            "text/plain": [
              "<Figure size 432x288 with 1 Axes>"
            ]
          },
          "metadata": {
            "needs_background": "light"
          },
          "output_type": "display_data"
        }
      ],
      "source": [
        "import numpy as np\n",
        "import matplotlib.pyplot as plt\n",
        "\n",
        "# Create a range of values from -1 to 5\n",
        "w_range = np.linspace(-1, 5, 1000)\n",
        "loss_w_range = [] # create an empty list to store the loss values\n",
        "\n",
        "# Try different weight values to get predictions for y\n",
        "for w in w_range:\n",
        "    pred = (w * x) + 2\n",
        "    loss = torch.mean((pred - y) ** 2)\n",
        "    loss_w_range.append(loss.item())\n",
        "\n",
        "# Plot the graph\n",
        "plt.title(\"Loss Over Different Weight Values for the Linear Function y=3x+2\")\n",
        "plt.plot(w_range, loss_w_range)\n",
        "plt.xlabel('Weight, w')\n",
        "plt.ylabel('MSE Loss')\n",
        "plt.show()\n"
      ]
    },
    {
      "cell_type": "code",
      "execution_count": 83,
      "metadata": {
        "colab": {
          "base_uri": "https://localhost:8080/"
        },
        "id": "qdbsu201V2lU",
        "outputId": "c6154579-a607-4c2b-e0f8-ae06a064c06a"
      },
      "outputs": [
        {
          "name": "stdout",
          "output_type": "stream",
          "text": [
            "The weight gives minimum loss for this linear function : 3.0\n"
          ]
        }
      ],
      "source": [
        "# Q16. From the graph, what value of weight gives the minimum loss for this linear function?\n",
        "min_loss_w = w_range[loss_w_range.index(min(loss_w_range))]\n",
        "print(f'The weight gives minimum loss for this linear function : {min_loss_w}')\n",
        "\n",
        "# 3.0, which is same value with given linear function 3x+2."
      ]
    }
  ],
  "metadata": {
    "colab": {
      "provenance": []
    },
    "kernelspec": {
      "display_name": "Python 3",
      "name": "python3"
    },
    "language_info": {
      "codemirror_mode": {
        "name": "ipython",
        "version": 3
      },
      "file_extension": ".py",
      "mimetype": "text/x-python",
      "name": "python",
      "nbconvert_exporter": "python",
      "pygments_lexer": "ipython3",
      "version": "3.9.13"
    }
  },
  "nbformat": 4,
  "nbformat_minor": 0
}
