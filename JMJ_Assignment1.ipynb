{
  "nbformat": 4,
  "nbformat_minor": 0,
  "metadata": {
    "colab": {
      "provenance": []
    },
    "kernelspec": {
      "name": "python3",
      "display_name": "Python 3"
    }
  },
  "cells": [
    {
      "cell_type": "markdown",
      "metadata": {
        "id": "42CRdtcCRTuc"
      },
      "source": [
        "# Assignment 1 – Polynomial Regression using ``torch.nn.Module``\n",
        "\n",
        "- Please create a copy of this notebook onto your own Drive before working on it: `File-->Save a copy in Drive`\n",
        "- Please submit your ipynb file named with your initials, e.g. `KJH-Assignment1.ipynb` (or a URL link to it) with **the CODE cells output visible** to support your answers and **TEXTUAL answers given as comments** in the code cells.\n",
        "- Marks will be deducted for missing or partial code cell output where applicable.\n",
        "- Deadline for submission is **9:00am, Saturday, March 25th.**"
      ]
    },
    {
      "cell_type": "markdown",
      "metadata": {
        "id": "0KvsIo2UfwO3"
      },
      "source": [
        "## Neural Network Model for Polynomial Regression\n",
        "Your task is to build **TWO different neural network models** for the function $y = x^2 + 5x$\n",
        "\n",
        "Requirements:\n",
        "- You MUST use `torch.nn.Module` to define your neural network classes.\n",
        "- A random seed is provided to help with code reproducibility so the code will always produce the same result each time you run it.\n",
        "- The training data should have **10 input values, $x$, and the correct corresponding output values, $y$,** for the function $y = x^2 + 5x$ \n",
        "- Each NN may have **maximum TWO hidden layers**.\n",
        "- You may use a **maximum of 500 neuron units in each hidden layer**.\n",
        "- You may train over a **maximum of 1000 epochs**.\n",
        "- Use suitable activation functions that have been covered in class. \n",
        "  - Note: Activation function should be used in every layer and the output layer depending on the type of output.\n",
        "- You MUST use the **Adam optimiser,** available as **`torch.optim.Adam()`** and the **mean squared error (MSE) loss function**.\n",
        "- **IMPORTANT:** **Your best 2 models should have a loss lower than 0.01** at the end of training.\n",
        "- If the loss value is the same, you can fill it out regardless of the rank.\n",
        "- Please write down **the top 2 models** with the best performance in terms of **lowest loss** from your experiment, including **the number of layers, hidden sizes, learning rate, epochs, and the final loss after running all epochs.**\n",
        "- Print the loss at every 50th epoch. \n",
        "- Test the model on $x=10$.\n",
        "- **Save your training loss** at every iteration.\n",
        "\n",
        "Note:\n",
        "- If your model does not achieve a loss of less than 0.01, you will still be awarded marks for `Q7 – Q10` as long as you can explain your answers accordingly.\n",
        "- For `Q7 – Q12`, please respond with the cases where the loss is the lowest."
      ]
    },
    {
      "cell_type": "code",
      "source": [
        "import torch\n",
        "import torch.nn as nn\n",
        "\n",
        "# 1. Define training data for a the mathematical formula y = x^2 + 5x (3)\n",
        "import numpy as np\n",
        "x_train = np.linspace(-10, 10, 20)\n",
        "y_train = x_train**2 + x_train*5\n",
        "\n",
        "x_train = torch.tensor(x_train, dtype=torch.float32).unsqueeze(1)\n",
        "y_train = torch.tensor(y_train, dtype=torch.float32).unsqueeze(1)\n",
        "print(x_train)\n",
        "print(y_train)"
      ],
      "metadata": {
        "id": "ek4MzzzQYbdp",
        "colab": {
          "base_uri": "https://localhost:8080/"
        },
        "outputId": "f2e683eb-a9fb-4664-c379-59131b628a4a"
      },
      "execution_count": 1,
      "outputs": [
        {
          "output_type": "stream",
          "name": "stdout",
          "text": [
            "tensor([[-10.0000],\n",
            "        [ -8.9474],\n",
            "        [ -7.8947],\n",
            "        [ -6.8421],\n",
            "        [ -5.7895],\n",
            "        [ -4.7368],\n",
            "        [ -3.6842],\n",
            "        [ -2.6316],\n",
            "        [ -1.5789],\n",
            "        [ -0.5263],\n",
            "        [  0.5263],\n",
            "        [  1.5789],\n",
            "        [  2.6316],\n",
            "        [  3.6842],\n",
            "        [  4.7368],\n",
            "        [  5.7895],\n",
            "        [  6.8421],\n",
            "        [  7.8947],\n",
            "        [  8.9474],\n",
            "        [ 10.0000]])\n",
            "tensor([[ 50.0000],\n",
            "        [ 35.3186],\n",
            "        [ 22.8532],\n",
            "        [ 12.6039],\n",
            "        [  4.5706],\n",
            "        [ -1.2465],\n",
            "        [ -4.8476],\n",
            "        [ -6.2327],\n",
            "        [ -5.4017],\n",
            "        [ -2.3546],\n",
            "        [  2.9086],\n",
            "        [ 10.3878],\n",
            "        [ 20.0831],\n",
            "        [ 31.9945],\n",
            "        [ 46.1219],\n",
            "        [ 62.4654],\n",
            "        [ 81.0249],\n",
            "        [101.8006],\n",
            "        [124.7922],\n",
            "        [150.0000]])\n"
          ]
        }
      ]
    },
    {
      "cell_type": "code",
      "metadata": {
        "id": "MdiTwoHS93b3"
      },
      "source": [
        "# Find out the 1st, 2nd lowest loss model\n",
        "torch.manual_seed(40)\n",
        "class PolynomialRegression_2_hidden(nn.Module):\n",
        "    \n",
        "    # two hidden layers\n",
        "    def __init__(self, hidden_size):\n",
        "        super().__init__()\n",
        "        self.linear1 = nn.Linear(1, hidden_size)\n",
        "        self.linear2 = nn.Linear(hidden_size, hidden_size)\n",
        "        self.linear3 = nn.Linear(hidden_size, 1)\n",
        "        self.activation = nn.ReLU()\n",
        "\n",
        "    def forward(self, x):\n",
        "        x = self.linear1(x)\n",
        "        x = self.activation(x)\n",
        "        x = self.linear2(x)\n",
        "        x = self.activation(x)\n",
        "        x = self.linear3(x)\n",
        "        return x"
      ],
      "execution_count": 2,
      "outputs": []
    },
    {
      "cell_type": "code",
      "source": [
        "class PolynomialRegression_1_hidden(nn.Module):\n",
        "    \n",
        "    # one hidden layer\n",
        "    def __init__(self, hidden_size):\n",
        "        super().__init__()\n",
        "        self.linear1 = nn.Linear(1, hidden_size)\n",
        "        self.linear2 = nn.Linear(hidden_size, 1)\n",
        "        self.activation = nn.ReLU()\n",
        "\n",
        "    def forward(self, x):\n",
        "        x = self.linear1(x)\n",
        "        x = self.activation(x)\n",
        "        x = self.linear2(x)\n",
        "        return x"
      ],
      "metadata": {
        "id": "WJSOvU7ui8_z"
      },
      "execution_count": 3,
      "outputs": []
    },
    {
      "cell_type": "code",
      "source": [
        "torch.manual_seed(40)\n",
        "num_epochs = [100, 300, 500, 700, 900, 1100]\n",
        "hidden_sizes = [100, 200, 300, 400, 500]\n",
        "\n",
        "# 1 hidden layer\n",
        "\n",
        "def PolynomialRegression_loop_1(num_epochs, hidden_size, learning_rate=0.1):\n",
        "    model = PolynomialRegression_1_hidden(hidden_size)\n",
        "    loss_fn = nn.MSELoss()\n",
        "    opt = torch.optim.Adam(model.parameters(), lr=learning_rate)\n",
        "\n",
        "    for epoch in range(num_epochs):\n",
        "        y_pred = model(x_train)\n",
        "        loss = loss_fn(y_pred, y_train)\n",
        "\n",
        "        opt.zero_grad()\n",
        "        loss.backward()\n",
        "        opt.step()\n",
        "\n",
        "    print(f'final loss :{loss.item():.5f}, epochs : {num_epochs}, hidden size : {hidden_size}, learning rate : {learning_rate}, hidden layer : 1')\n",
        "    return loss.item()\n",
        "\n",
        "\n",
        "temp = np.array([[0,0,0,0]], dtype=np.float32)\n",
        "for epochs in num_epochs : \n",
        "    for size in hidden_sizes :\n",
        "        row_add = [[epochs, size, PolynomialRegression_loop_1(epochs, size),1]]\n",
        "        temp = np.r_[temp, row_add]\n",
        "\n",
        "results_1 = np.delete(temp, 0, axis=0)\n",
        "\n",
        "# 2 hidden layer\n",
        "\n",
        "def PolynomialRegression_loop_2(num_epochs, hidden_size, learning_rate=0.1):\n",
        "    model = PolynomialRegression_2_hidden(hidden_size)\n",
        "\n",
        "    loss_fn = nn.MSELoss()\n",
        "    opt = torch.optim.Adam(model.parameters(), lr=learning_rate)\n",
        "\n",
        "    for epoch in range(num_epochs):\n",
        "        y_pred = model(x_train)\n",
        "        loss = loss_fn(y_pred, y_train)\n",
        "        opt.zero_grad()\n",
        "        loss.backward()\n",
        "        opt.step()\n",
        "    \n",
        "    print(f'final loss :{loss.item():.5f}, epochs : {num_epochs}, hidden size : {hidden_size}, learning rate : {learning_rate}, hidden layer : 2')\n",
        "    return loss.item()\n",
        "\n",
        "temp = np.array([[0,0,0,0]], dtype=np.float32)\n",
        "for epochs in num_epochs : \n",
        "    for size in hidden_sizes :\n",
        "        row_add = [[epochs, size, PolynomialRegression_loop_2(epochs, size), 2]]\n",
        "        temp = np.r_[temp, row_add]\n",
        "\n",
        "results_2 = np.delete(temp, 0, axis=0)"
      ],
      "metadata": {
        "id": "kS5vRSTH7NcX",
        "colab": {
          "base_uri": "https://localhost:8080/"
        },
        "outputId": "dd9d92af-e28e-4759-9ee2-a1ee58c9325a"
      },
      "execution_count": 4,
      "outputs": [
        {
          "output_type": "stream",
          "name": "stdout",
          "text": [
            "final loss :7.38780, epochs : 100, hidden size : 100, learning rate : 0.1, hidden layer : 1\n",
            "final loss :3.35172, epochs : 100, hidden size : 200, learning rate : 0.1, hidden layer : 1\n",
            "final loss :1.51168, epochs : 100, hidden size : 300, learning rate : 0.1, hidden layer : 1\n",
            "final loss :1.58870, epochs : 100, hidden size : 400, learning rate : 0.1, hidden layer : 1\n",
            "final loss :1.60491, epochs : 100, hidden size : 500, learning rate : 0.1, hidden layer : 1\n",
            "final loss :0.14957, epochs : 300, hidden size : 100, learning rate : 0.1, hidden layer : 1\n",
            "final loss :0.04223, epochs : 300, hidden size : 200, learning rate : 0.1, hidden layer : 1\n",
            "final loss :0.04896, epochs : 300, hidden size : 300, learning rate : 0.1, hidden layer : 1\n",
            "final loss :0.06867, epochs : 300, hidden size : 400, learning rate : 0.1, hidden layer : 1\n",
            "final loss :0.07489, epochs : 300, hidden size : 500, learning rate : 0.1, hidden layer : 1\n",
            "final loss :0.03667, epochs : 500, hidden size : 100, learning rate : 0.1, hidden layer : 1\n",
            "final loss :0.41108, epochs : 500, hidden size : 200, learning rate : 0.1, hidden layer : 1\n",
            "final loss :0.01895, epochs : 500, hidden size : 300, learning rate : 0.1, hidden layer : 1\n",
            "final loss :0.02451, epochs : 500, hidden size : 400, learning rate : 0.1, hidden layer : 1\n",
            "final loss :0.01863, epochs : 500, hidden size : 500, learning rate : 0.1, hidden layer : 1\n",
            "final loss :0.00813, epochs : 700, hidden size : 100, learning rate : 0.1, hidden layer : 1\n",
            "final loss :0.01075, epochs : 700, hidden size : 200, learning rate : 0.1, hidden layer : 1\n",
            "final loss :0.00526, epochs : 700, hidden size : 300, learning rate : 0.1, hidden layer : 1\n",
            "final loss :0.00183, epochs : 700, hidden size : 400, learning rate : 0.1, hidden layer : 1\n",
            "final loss :0.00481, epochs : 700, hidden size : 500, learning rate : 0.1, hidden layer : 1\n",
            "final loss :0.02109, epochs : 900, hidden size : 100, learning rate : 0.1, hidden layer : 1\n",
            "final loss :0.30954, epochs : 900, hidden size : 200, learning rate : 0.1, hidden layer : 1\n",
            "final loss :0.00104, epochs : 900, hidden size : 300, learning rate : 0.1, hidden layer : 1\n",
            "final loss :0.00249, epochs : 900, hidden size : 400, learning rate : 0.1, hidden layer : 1\n",
            "final loss :0.12054, epochs : 900, hidden size : 500, learning rate : 0.1, hidden layer : 1\n",
            "final loss :0.22815, epochs : 1100, hidden size : 100, learning rate : 0.1, hidden layer : 1\n",
            "final loss :0.04899, epochs : 1100, hidden size : 200, learning rate : 0.1, hidden layer : 1\n",
            "final loss :0.06474, epochs : 1100, hidden size : 300, learning rate : 0.1, hidden layer : 1\n",
            "final loss :0.01277, epochs : 1100, hidden size : 400, learning rate : 0.1, hidden layer : 1\n",
            "final loss :0.12147, epochs : 1100, hidden size : 500, learning rate : 0.1, hidden layer : 1\n",
            "final loss :7.54080, epochs : 100, hidden size : 100, learning rate : 0.1, hidden layer : 2\n",
            "final loss :0.44246, epochs : 100, hidden size : 200, learning rate : 0.1, hidden layer : 2\n",
            "final loss :0.20274, epochs : 100, hidden size : 300, learning rate : 0.1, hidden layer : 2\n",
            "final loss :0.13590, epochs : 100, hidden size : 400, learning rate : 0.1, hidden layer : 2\n",
            "final loss :0.66494, epochs : 100, hidden size : 500, learning rate : 0.1, hidden layer : 2\n",
            "final loss :181.14281, epochs : 300, hidden size : 100, learning rate : 0.1, hidden layer : 2\n",
            "final loss :0.03770, epochs : 300, hidden size : 200, learning rate : 0.1, hidden layer : 2\n",
            "final loss :0.01228, epochs : 300, hidden size : 300, learning rate : 0.1, hidden layer : 2\n",
            "final loss :0.06680, epochs : 300, hidden size : 400, learning rate : 0.1, hidden layer : 2\n",
            "final loss :0.00756, epochs : 300, hidden size : 500, learning rate : 0.1, hidden layer : 2\n",
            "final loss :0.21660, epochs : 500, hidden size : 100, learning rate : 0.1, hidden layer : 2\n",
            "final loss :0.01705, epochs : 500, hidden size : 200, learning rate : 0.1, hidden layer : 2\n",
            "final loss :0.14814, epochs : 500, hidden size : 300, learning rate : 0.1, hidden layer : 2\n",
            "final loss :0.00042, epochs : 500, hidden size : 400, learning rate : 0.1, hidden layer : 2\n",
            "final loss :0.00227, epochs : 500, hidden size : 500, learning rate : 0.1, hidden layer : 2\n",
            "final loss :0.16364, epochs : 700, hidden size : 100, learning rate : 0.1, hidden layer : 2\n",
            "final loss :0.00026, epochs : 700, hidden size : 200, learning rate : 0.1, hidden layer : 2\n",
            "final loss :0.00029, epochs : 700, hidden size : 300, learning rate : 0.1, hidden layer : 2\n",
            "final loss :0.00006, epochs : 700, hidden size : 400, learning rate : 0.1, hidden layer : 2\n",
            "final loss :0.00567, epochs : 700, hidden size : 500, learning rate : 0.1, hidden layer : 2\n",
            "final loss :0.42687, epochs : 900, hidden size : 100, learning rate : 0.1, hidden layer : 2\n",
            "final loss :0.04462, epochs : 900, hidden size : 200, learning rate : 0.1, hidden layer : 2\n",
            "final loss :0.00304, epochs : 900, hidden size : 300, learning rate : 0.1, hidden layer : 2\n",
            "final loss :0.00006, epochs : 900, hidden size : 400, learning rate : 0.1, hidden layer : 2\n",
            "final loss :0.00185, epochs : 900, hidden size : 500, learning rate : 0.1, hidden layer : 2\n",
            "final loss :1.36453, epochs : 1100, hidden size : 100, learning rate : 0.1, hidden layer : 2\n",
            "final loss :0.00087, epochs : 1100, hidden size : 200, learning rate : 0.1, hidden layer : 2\n",
            "final loss :0.83964, epochs : 1100, hidden size : 300, learning rate : 0.1, hidden layer : 2\n",
            "final loss :0.00002, epochs : 1100, hidden size : 400, learning rate : 0.1, hidden layer : 2\n",
            "final loss :0.00006, epochs : 1100, hidden size : 500, learning rate : 0.1, hidden layer : 2\n"
          ]
        }
      ]
    },
    {
      "cell_type": "code",
      "source": [
        "results = np.concatenate((results_1, results_2), axis=0)\n",
        "top1_2 = results[results[:,2].argsort()][:2, :]\n",
        "print(f\"<top1> epoch : {top1_2[0,0]}, hidden_size :{top1_2[0,1]}, loss : {top1_2[0,2]:.5f}, hidden layer : {top1_2[0,3]}\\n<top2> epoch : {top1_2[1,0]}, hidden_size :{top1_2[1,1]}, loss : {top1_2[1,2]:.5f}, hidden layer : {top1_2[1,3]}\")"
      ],
      "metadata": {
        "colab": {
          "base_uri": "https://localhost:8080/"
        },
        "id": "LF-6bgXGo350",
        "outputId": "4157af79-45d0-4cfe-9621-e3f09a5b7ca0"
      },
      "execution_count": 5,
      "outputs": [
        {
          "output_type": "stream",
          "name": "stdout",
          "text": [
            "<top1> epoch : 1100.0, hidden_size :400.0, loss : 0.00002, hidden layer : 2.0\n",
            "<top2> epoch : 1100.0, hidden_size :500.0, loss : 0.00006, hidden layer : 2.0\n"
          ]
        }
      ]
    },
    {
      "cell_type": "code",
      "source": [
        "# Top 1 Accuracy Model (the model that has the lowest loss)\n",
        "# <top1> epoch : 1100.0, hidden_size :400.0, loss : 0.00002, hidden layer : 2.0\n",
        "torch.manual_seed(40) # This is for reproducibility. You need NOT adjust this.\n",
        "\n",
        "# 2. Define NN class 1 (10)\n",
        "class PolynomialRegression_2_hidden(nn.Module):\n",
        "    \n",
        "    # two hidden layers\n",
        "    def __init__(self, hidden_size):\n",
        "        super().__init__()\n",
        "        self.linear1 = nn.Linear(1, hidden_size)\n",
        "        self.linear2 = nn.Linear(hidden_size, hidden_size)\n",
        "        self.linear3 = nn.Linear(hidden_size, 1)\n",
        "        self.activation = nn.ReLU()\n",
        "\n",
        "    def forward(self, x):\n",
        "        x = self.linear1(x)\n",
        "        x = self.activation(x)\n",
        "        x = self.linear2(x)\n",
        "        x = self.activation(x)\n",
        "        x = self.linear3(x)\n",
        "        return x\n",
        "\n",
        "# 3. Create an instance of NN model and define the hidden_size (2)\n",
        "hidden_size = 400\n",
        "model_top1 = PolynomialRegression_2_hidden(hidden_size)\n",
        "# 4. Loss and Optimiser (2)\n",
        "loss_fn = nn.MSELoss()\n",
        "opt = torch.optim.Adam(model_top1.parameters(), lr = 0.1)\n",
        "# 5. Training loop\n",
        "  # 5.1 Forward pass (2)\n",
        "num_epochs = 1100\n",
        "train_loss_1st = []\n",
        "\n",
        "for epoch in range(num_epochs):\n",
        "    y_pred = model_top1(x_train)\n",
        "    loss = loss_fn(y_pred, y_train)\n",
        " # 5.2 Backward pass (3)\n",
        "    opt.zero_grad()\n",
        "    loss.backward()\n",
        "    opt.step()\n",
        "  # 5.3 Print loss every 50th epoch (1)\n",
        "    if (epoch+1) % 50 == 0 :\n",
        "        print(f'Epoch {epoch+1}/{num_epochs}, Loss = {loss.item():.4f} ')\n",
        "  # 5.4 Save training loss at every epoch (2)\n",
        "    train_loss_1st.append(loss.item())\n",
        "\n",
        "print(loss.item())"
      ],
      "metadata": {
        "colab": {
          "base_uri": "https://localhost:8080/"
        },
        "id": "Sh45Vi-tAXJi",
        "outputId": "cb3c501d-dc0e-48a0-be3b-c711a5cb44e9"
      },
      "execution_count": 14,
      "outputs": [
        {
          "output_type": "stream",
          "name": "stdout",
          "text": [
            "Epoch 50/1100, Loss = 9.1176 \n",
            "Epoch 100/1100, Loss = 1.3345 \n",
            "Epoch 150/1100, Loss = 0.4965 \n",
            "Epoch 200/1100, Loss = 0.2467 \n",
            "Epoch 250/1100, Loss = 0.1808 \n",
            "Epoch 300/1100, Loss = 0.0687 \n",
            "Epoch 350/1100, Loss = 0.0354 \n",
            "Epoch 400/1100, Loss = 0.0208 \n",
            "Epoch 450/1100, Loss = 0.0131 \n",
            "Epoch 500/1100, Loss = 0.0084 \n",
            "Epoch 550/1100, Loss = 0.0055 \n",
            "Epoch 600/1100, Loss = 0.0035 \n",
            "Epoch 650/1100, Loss = 0.0024 \n",
            "Epoch 700/1100, Loss = 0.0016 \n",
            "Epoch 750/1100, Loss = 0.0012 \n",
            "Epoch 800/1100, Loss = 0.0009 \n",
            "Epoch 850/1100, Loss = 0.0007 \n",
            "Epoch 900/1100, Loss = 0.0006 \n",
            "Epoch 950/1100, Loss = 0.0004 \n",
            "Epoch 1000/1100, Loss = 0.0003 \n",
            "Epoch 1050/1100, Loss = 0.0002 \n",
            "Epoch 1100/1100, Loss = 0.0002 \n",
            "0.00017993853543885052\n"
          ]
        }
      ]
    },
    {
      "cell_type": "code",
      "source": [
        "# Top 2 Accuracy Model (the model that has the second lowest loss)\n",
        "# <top2> epoch : 1100.0, hidden_size :500.0, loss : 0.00006, hidden layer : 2.0\n",
        "torch.manual_seed(40) # This is for reproducibility. You need NOT adjust this.\n",
        "\n",
        "# 2. Define NN class 1 (10)\n",
        "class PolynomialRegression_2_hidden(nn.Module):\n",
        "    \n",
        "    # two hidden layers\n",
        "    def __init__(self, hidden_size):\n",
        "        super().__init__()\n",
        "        self.linear1 = nn.Linear(1, hidden_size)\n",
        "        self.linear2 = nn.Linear(hidden_size, hidden_size)\n",
        "        self.linear3 = nn.Linear(hidden_size, 1)\n",
        "        self.activation = nn.ReLU()\n",
        "\n",
        "    def forward(self, x):\n",
        "        x = self.linear1(x)\n",
        "        x = self.activation(x)\n",
        "        x = self.linear2(x)\n",
        "        x = self.activation(x)\n",
        "        x = self.linear3(x)\n",
        "        return x\n",
        "\n",
        "# 3. Create an instance of NN model and define the hidden_size (2)\n",
        "hidden_size = 500\n",
        "model_top2 = PolynomialRegression_2_hidden(hidden_size)\n",
        "# 4. Loss and Optimiser (2)\n",
        "loss_fn = nn.MSELoss()\n",
        "opt = torch.optim.Adam(model_top2.parameters(), lr = 0.1)\n",
        "# 5. Training loop\n",
        "  # 5.1 Forward pass (2)\n",
        "num_epochs = 1100\n",
        "train_loss_2nd = []\n",
        "for epoch in range(num_epochs):\n",
        "    y_pred = model_top2(x_train)\n",
        "    loss = loss_fn(y_pred, y_train)\n",
        " # 5.2 Backward pass (3)\n",
        "    opt.zero_grad()\n",
        "    loss.backward()\n",
        "    opt.step()\n",
        "  # 5.3 Print loss every 50th epoch (1)\n",
        "    if (epoch+1) % 50 == 0 :\n",
        "        print(f'Epoch {epoch+1}/{num_epochs}, Loss = {loss.item():.4f} ')\n",
        "  # 5.4 Save training loss at every epoch (2)\n",
        "    train_loss_2nd.append(loss.item())\n",
        "\n",
        "print(loss.item())"
      ],
      "metadata": {
        "id": "-LlBqYYpKdou",
        "colab": {
          "base_uri": "https://localhost:8080/"
        },
        "outputId": "b9af0303-fe9e-470b-f85f-353cec6d6f23"
      },
      "execution_count": 13,
      "outputs": [
        {
          "output_type": "stream",
          "name": "stdout",
          "text": [
            "Epoch 50/1100, Loss = 5.3857 \n",
            "Epoch 100/1100, Loss = 0.5602 \n",
            "Epoch 150/1100, Loss = 0.1084 \n",
            "Epoch 200/1100, Loss = 0.0418 \n",
            "Epoch 250/1100, Loss = 0.0251 \n",
            "Epoch 300/1100, Loss = 0.0167 \n",
            "Epoch 350/1100, Loss = 0.0111 \n",
            "Epoch 400/1100, Loss = 0.0073 \n",
            "Epoch 450/1100, Loss = 0.0049 \n",
            "Epoch 500/1100, Loss = 0.0034 \n",
            "Epoch 550/1100, Loss = 0.0025 \n",
            "Epoch 600/1100, Loss = 0.0019 \n",
            "Epoch 650/1100, Loss = 0.0015 \n",
            "Epoch 700/1100, Loss = 0.0012 \n",
            "Epoch 750/1100, Loss = 0.0010 \n",
            "Epoch 800/1100, Loss = 0.0008 \n",
            "Epoch 850/1100, Loss = 0.1199 \n",
            "Epoch 900/1100, Loss = 0.1093 \n",
            "Epoch 950/1100, Loss = 0.0432 \n",
            "Epoch 1000/1100, Loss = 0.0233 \n",
            "Epoch 1050/1100, Loss = 0.0126 \n",
            "Epoch 1100/1100, Loss = 0.0067 \n",
            "0.0066515496000647545\n"
          ]
        }
      ]
    },
    {
      "cell_type": "code",
      "source": [
        "# Q6. Please write down the top 2 models with the best performance in terms of lowest loss from your experiment. (3)\n",
        "# Including the number of layers, hidden sizes, learning rate, epochs, and the final loss after running all epochs.\n",
        "# Top 1\n",
        "# number of layers: 4 (1 input layer, 2 hidden layer, 1 output layer)\n",
        "# number of hidden sizes: 400\n",
        "# learning rate: 0.1\n",
        "# epochs: 1100\n",
        "# final loss: 0.00002\n",
        "\n",
        "# Top 2:\n",
        "# number of layers: 4 (1 input layer, 2 hidden layer, 1 output layer)\n",
        "# number of hidden sizes: 500\n",
        "# learning rate: 0.2\n",
        "# epochs: 1100\n",
        "# final loss: 0.00006"
      ],
      "metadata": {
        "id": "dpVsWM1gKARA"
      },
      "execution_count": 8,
      "outputs": []
    },
    {
      "cell_type": "markdown",
      "source": [
        "For Q7-Q12, please respond using the best model (the model with the lowest loss)."
      ],
      "metadata": {
        "id": "JRDul8uFKEOp"
      }
    },
    {
      "cell_type": "code",
      "source": [
        "# Q7. Visualize (3)\n",
        "# Plot the landscape of your training loss (MSE loss) saved for every epoch.\n",
        "# y-axis would mean MSE loss and x-axis would mean the epoch of your training.\n",
        "# Hint: you should plot (1,first MSE loss), ... ,(last epoch number,last MSE loss)\n",
        "import matplotlib.pyplot as plt\n",
        "x = [i for i in range(1, len(train_loss_1st)+1)]\n",
        "\n",
        "plt.title(\"Loss over training epoch\")\n",
        "plt.xlabel(\"epoch\")\n",
        "plt.ylabel(\"MSE loss\")\n",
        "plt.plot(x, train_loss_1st)\n",
        "plt.show()"
      ],
      "metadata": {
        "id": "xXWhlxrmLBSl",
        "colab": {
          "base_uri": "https://localhost:8080/",
          "height": 295
        },
        "outputId": "7a3ef39e-8e30-445e-cf31-091796666721"
      },
      "execution_count": 15,
      "outputs": [
        {
          "output_type": "display_data",
          "data": {
            "text/plain": [
              "<Figure size 432x288 with 1 Axes>"
            ],
            "image/png": "[encoded data removed]"
          },
          "metadata": {
            "needs_background": "light"
          }
        }
      ]
    },
    {
      "cell_type": "code",
      "metadata": {
        "id": "zatxfhYejeB8",
        "colab": {
          "base_uri": "https://localhost:8080/"
        },
        "outputId": "1b25f729-f38c-45f6-f253-29eead74e854"
      },
      "source": [
        "# Q8. Prediction (2)\n",
        "# Let's use the model on a new number x, defined as a tensor\n",
        "# Get the model's prediction for this new x\n",
        "def test_model(test_num):\n",
        "    test = torch.tensor([test_num], dtype=torch.float32)\n",
        "    pred = model_top1(test).item()\n",
        "    print(f'Model Prediction for x = {test_num} : {pred:.4f}\\nerror :{((test_num**2 + 5*test_num) - pred):.4f}')\n",
        "\n",
        "test_model(10)"
      ],
      "execution_count": 18,
      "outputs": [
        {
          "output_type": "stream",
          "name": "stdout",
          "text": [
            "Model Prediction for x = 10 : 149.9901\n",
            "error :0.0099\n"
          ]
        }
      ]
    },
    {
      "cell_type": "code",
      "metadata": {
        "id": "RvmHgY1oDLiB",
        "colab": {
          "base_uri": "https://localhost:8080/"
        },
        "outputId": "f2fcb2c5-51bf-4345-9e36-bf09bdeee207"
      },
      "source": [
        "# Make sure the output of your code cells support your answers below:\n",
        "\n",
        "# Q9. Describe how the loss changed over time during training. (2)\n",
        "\n",
        "# The training loss value decreased sharply, then rose slightly, and then continued to decrease again, showing a pattern of convergence.\n",
        "\n",
        "# Q10. Is the prediction for x=10 close enough to the ideal value of 150? \n",
        "\n",
        "# Why do you think the prediction is or isn't close enough to the ideal value? (2)\n",
        "# Yes, the prediction results was 150.0000, which is ideal value.\n",
        "\n",
        "# Q11. What are the predictions for x=20 and x=100? Based on these predictions, \n",
        "# comment on whether the model has captured the relationship between the training inputs and outputs. (2)\n",
        "\n",
        "test_model(20)\n",
        "# Model Prediction for x = 20 : 369.2545\n",
        "# error :130.7455\n",
        "test_model(100)\n",
        "# Model Prediction for x = 100 : 2140.8533\n",
        "# error :8359.1467\n",
        "\n",
        "# Since the range of training data is set between -10 and 10, \n",
        "# it was confirmed that good prediction results were not shown in the case of 20 and 100, which are far outside the range of training data.\n",
        "\n",
        "test_model(6)\n",
        "# Model Prediction for x = 6 : 66.0611\n",
        "# error :-0.0611\n",
        "test_model(-10)\n",
        "# Model Prediction for x = -10 : 50.0000\n",
        "# error :0.0000\n",
        "test_model(3)\n",
        "# Model Prediction for x = 3 : 23.6960\n",
        "# error :0.3040\n",
        "\n",
        "# However, It can be seen that values within the training data range almost completely predict. \n",
        "# Therefore, the relationship between the training input value and the output value seems to be well reflected.\n",
        "\n",
        "# Q12. Apart from tweaking the number of epochs and the number of neuron units in the hidden layer, think\n",
        "# of AT LEAST ONE more thing you would do to try to improve the model. You do NOT have to follow the \n",
        "# requirements nor to implement anything. (1)\n",
        "\n",
        "# 1. More training data with a wider range, It is possible to train a model that can explain a wider range.\n",
        "# 2. Using different type of layers, such as convolutional layers or recurrent layers\n",
        "# 3. Different activation function, such as sigmoid or tanh functions. "
      ],
      "execution_count": 19,
      "outputs": [
        {
          "output_type": "stream",
          "name": "stdout",
          "text": [
            "Model Prediction for x = 20 : 389.6318\n",
            "error :110.3682\n",
            "Model Prediction for x = 100 : 2324.2954\n",
            "error :8175.7046\n",
            "Model Prediction for x = 6 : 66.0282\n",
            "error :-0.0282\n",
            "Model Prediction for x = -10 : 50.0000\n",
            "error :-0.0000\n",
            "Model Prediction for x = 3 : 23.9839\n",
            "error :0.0161\n"
          ]
        }
      ]
    }
  ]
}